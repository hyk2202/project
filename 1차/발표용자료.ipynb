{
 "cells": [
  {
   "cell_type": "markdown",
   "metadata": {},
   "source": [
    "# 첫번째 프로젝트\n",
    "\n",
    "최대한 많은 리뷰를 수집하고 별점을 기준으로 3점 이상은 긍정 덧글, 3점 미만은 부정 덧글로 분류하여 데이터베이스에 저장하고자 한다.\n",
    "\n",
    "자신이 관심을 갖는 상품 종류를 선정하여 네이버 쇼핑에서 5개 이상의 상품을 선정하여 상품의 이름을 데이터베이스 테이블에 저장하시오. 상품의 이름은 파이썬을 활용하지 않고 직접 INSERT문을 사용해도 좋습니다. 그리고 각 상품에 대한 모든 리뷰를 수집하시오. 수집된 리뷰를 데이터베이스 테이블에 저장하면서 별점 3점 이상은 리뷰는 긍정, 별점 3점 미만은 부정으로 표시하는 컬럼을 추가해야 합니다. 이 필드는 향후 분류분석(로지스틱회귀)에 활용될 수 있습니다.\n",
    "\n",
    "요구사항\n",
    "1. 상품 정보를 저장하기 위한 테이블과 리뷰를 저장하기 위한 테이블의 구조표와 테이블 생성 구문을 제시\n",
    "하고 리뷰를 수집하기 위해 작성한 소스코드와 각 단계별 실행 결과 및 설명을 제시하시오. \n",
    "2. 프로그램의 수행 결과를 확인하기 위해 상품 이름과 리뷰 내용, 리뷰 작성일, 별점, 긍정/부정 분류 결\n",
    "과 등의 데이터가 저장되어 있는 상태를 파이썬을 통해 조회하여 하나의 결과 집합으로 표시한 스크린샷\n",
    "을 제시하세요.\n",
    "3. 각각의 동작 단위를 2개 이상 모듈화 하세요.\n",
    "4. 이 과정을 완성하여 발표자료를 작성후 제출하고 직접 발표를 수행합니다.\n",
    "5. 과제를 수행하면서 겪은 에러 및 문제점을 모두 제시하고 이를 해결하기 위한 과정도 제시하세요. \n",
    "6. 이 과제를 수행하면서 느낀점을 서술하고 향후 자신이 어떤 부분을 보완해야 할지 제시하세요."
   ]
  },
  {
   "cell_type": "markdown",
   "metadata": {},
   "source": [
    "## #01. 준비과정\n",
    "\n",
    "### [1] 패키지 참조"
   ]
  },
  {
   "cell_type": "code",
   "execution_count": 27,
   "metadata": {},
   "outputs": [],
   "source": [
    "# ChromeDriver 자동 설치 모듈\n",
    "import chromedriver_autoinstaller\n",
    "# Chrome을 제어하기 위한 객체\n",
    "from selenium import webdriver\n",
    "# Chrome이 웹 페이지 로딩을 완료 할 때까지 최대 n초간 대기하는 기능.\n",
    "from selenium.webdriver.support.ui import WebDriverWait\n",
    "# HTML 파서\n",
    "from bs4 import BeautifulSoup\n",
    "# 파이썬 프로그램에 지정된 시간동안 랙을 거는 기능을 위해 사용\n",
    "import time\n",
    "# HTML요소를 가져오는 방법을 지정하기 위한 구조체\n",
    "from selenium.webdriver.common.by import By\n",
    "# 파일 저장시 파일 이름 조정을 위한 모듈\n",
    "import re\n",
    "# 오라클연동을 위한 모듈\n",
    "import cx_Oracle as cx\n",
    "# 입력한 데이터의 결과를 보기 위한 모듈\n",
    "from pandas import DataFrame\n"
   ]
  },
  {
   "cell_type": "markdown",
   "metadata": {},
   "source": [
    "### [2] 크롬 브라우저 가동 및 페이지 이동"
   ]
  },
  {
   "cell_type": "code",
   "execution_count": 28,
   "metadata": {},
   "outputs": [
    {
     "name": "stderr",
     "output_type": "stream",
     "text": [
      "Exception ignored in: <function Service.__del__ at 0x00000289E0093600>\n",
      "Traceback (most recent call last):\n",
      "  File \"c:\\Users\\hykimm\\AppData\\Local\\Programs\\Python\\Python312\\Lib\\site-packages\\selenium\\webdriver\\common\\service.py\", line 189, in __del__\n",
      "    self.stop()\n",
      "  File \"c:\\Users\\hykimm\\AppData\\Local\\Programs\\Python\\Python312\\Lib\\site-packages\\selenium\\webdriver\\common\\service.py\", line 146, in stop\n",
      "    self.send_remote_shutdown_command()\n",
      "  File \"c:\\Users\\hykimm\\AppData\\Local\\Programs\\Python\\Python312\\Lib\\site-packages\\selenium\\webdriver\\common\\service.py\", line 131, in send_remote_shutdown_command\n",
      "    if not self.is_connectable():\n",
      "           ^^^^^^^^^^^^^^^^^^^^^\n",
      "  File \"c:\\Users\\hykimm\\AppData\\Local\\Programs\\Python\\Python312\\Lib\\site-packages\\selenium\\webdriver\\common\\service.py\", line 120, in is_connectable\n",
      "    return utils.is_connectable(self.port)\n",
      "           ^^^^^^^^^^^^^^^^^^^^^^^^^^^^^^^\n",
      "  File \"c:\\Users\\hykimm\\AppData\\Local\\Programs\\Python\\Python312\\Lib\\site-packages\\selenium\\webdriver\\common\\utils.py\", line 101, in is_connectable\n",
      "    socket_ = socket.create_connection((host, port), 1)\n",
      "              ^^^^^^^^^^^^^^^^^^^^^^^^^^^^^^^^^^^^^^^^^\n",
      "  File \"c:\\Users\\hykimm\\AppData\\Local\\Programs\\Python\\Python312\\Lib\\socket.py\", line 844, in create_connection\n",
      "    exceptions.clear()  # raise only the last error\n",
      "    ^^^^^^^^^^^^^^^^^^\n",
      "KeyboardInterrupt: \n"
     ]
    },
    {
     "ename": "NoSuchWindowException",
     "evalue": "Message: no such window: target window already closed\nfrom unknown error: web view not found\n  (Session info: chrome=120.0.6099.110)\nStacktrace:\n\tGetHandleVerifier [0x01056EE3+174339]\n\t(No symbol) [0x00F80A51]\n\t(No symbol) [0x00C96FF6]\n\t(No symbol) [0x00C7EFE7]\n\t(No symbol) [0x00CEB53B]\n\t(No symbol) [0x00CF9E7B]\n\t(No symbol) [0x00CE6DA6]\n\t(No symbol) [0x00CC1034]\n\t(No symbol) [0x00CC1F8D]\n\tGetHandleVerifier [0x010F4B1C+820540]\n\tsqlite3_dbdata_init [0x011B53EE+653550]\n\tsqlite3_dbdata_init [0x011B4E09+652041]\n\tsqlite3_dbdata_init [0x011A97CC+605388]\n\tsqlite3_dbdata_init [0x011B5D9B+656027]\n\t(No symbol) [0x00F8FE6C]\n\t(No symbol) [0x00F883B8]\n\t(No symbol) [0x00F884DD]\n\t(No symbol) [0x00F75818]\n\tBaseThreadInitThunk [0x75B0FCC9+25]\n\tRtlGetAppContainerNamedObjectPath [0x77037C6E+286]\n\tRtlGetAppContainerNamedObjectPath [0x77037C3E+238]\n",
     "output_type": "error",
     "traceback": [
      "\u001b[1;31m---------------------------------------------------------------------------\u001b[0m",
      "\u001b[1;31mNoSuchWindowException\u001b[0m                     Traceback (most recent call last)",
      "Cell \u001b[1;32mIn[28], line 9\u001b[0m\n\u001b[0;32m      6\u001b[0m driver\u001b[38;5;241m.\u001b[39mimplicitly_wait(\u001b[38;5;241m5\u001b[39m)\n\u001b[0;32m      8\u001b[0m \u001b[38;5;66;03m# 네이버 쇼핑 페이지로 이동\u001b[39;00m\n\u001b[1;32m----> 9\u001b[0m \u001b[43mdriver\u001b[49m\u001b[38;5;241;43m.\u001b[39;49m\u001b[43mget\u001b[49m\u001b[43m(\u001b[49m\u001b[38;5;124;43m\"\u001b[39;49m\u001b[38;5;124;43mhttps://shopping.naver.com/market/emart/category?menu=20003203\u001b[39;49m\u001b[38;5;124;43m\"\u001b[39;49m\u001b[43m)\u001b[49m\n\u001b[0;32m     10\u001b[0m \u001b[38;5;66;03m# 브라우저가 쇼핑 페이지로 이동하는 시간동안 대기\u001b[39;00m\n\u001b[0;32m     11\u001b[0m time\u001b[38;5;241m.\u001b[39msleep(\u001b[38;5;241m1\u001b[39m) \n",
      "File \u001b[1;32mc:\\Users\\hykimm\\AppData\\Local\\Programs\\Python\\Python312\\Lib\\site-packages\\selenium\\webdriver\\remote\\webdriver.py:357\u001b[0m, in \u001b[0;36mWebDriver.get\u001b[1;34m(self, url)\u001b[0m\n\u001b[0;32m    355\u001b[0m \u001b[38;5;28;01mdef\u001b[39;00m \u001b[38;5;21mget\u001b[39m(\u001b[38;5;28mself\u001b[39m, url: \u001b[38;5;28mstr\u001b[39m) \u001b[38;5;241m-\u001b[39m\u001b[38;5;241m>\u001b[39m \u001b[38;5;28;01mNone\u001b[39;00m:\n\u001b[0;32m    356\u001b[0m \u001b[38;5;250m    \u001b[39m\u001b[38;5;124;03m\"\"\"Loads a web page in the current browser session.\"\"\"\u001b[39;00m\n\u001b[1;32m--> 357\u001b[0m     \u001b[38;5;28;43mself\u001b[39;49m\u001b[38;5;241;43m.\u001b[39;49m\u001b[43mexecute\u001b[49m\u001b[43m(\u001b[49m\u001b[43mCommand\u001b[49m\u001b[38;5;241;43m.\u001b[39;49m\u001b[43mGET\u001b[49m\u001b[43m,\u001b[49m\u001b[43m \u001b[49m\u001b[43m{\u001b[49m\u001b[38;5;124;43m\"\u001b[39;49m\u001b[38;5;124;43murl\u001b[39;49m\u001b[38;5;124;43m\"\u001b[39;49m\u001b[43m:\u001b[49m\u001b[43m \u001b[49m\u001b[43murl\u001b[49m\u001b[43m}\u001b[49m\u001b[43m)\u001b[49m\n",
      "File \u001b[1;32mc:\\Users\\hykimm\\AppData\\Local\\Programs\\Python\\Python312\\Lib\\site-packages\\selenium\\webdriver\\remote\\webdriver.py:348\u001b[0m, in \u001b[0;36mWebDriver.execute\u001b[1;34m(self, driver_command, params)\u001b[0m\n\u001b[0;32m    346\u001b[0m response \u001b[38;5;241m=\u001b[39m \u001b[38;5;28mself\u001b[39m\u001b[38;5;241m.\u001b[39mcommand_executor\u001b[38;5;241m.\u001b[39mexecute(driver_command, params)\n\u001b[0;32m    347\u001b[0m \u001b[38;5;28;01mif\u001b[39;00m response:\n\u001b[1;32m--> 348\u001b[0m     \u001b[38;5;28;43mself\u001b[39;49m\u001b[38;5;241;43m.\u001b[39;49m\u001b[43merror_handler\u001b[49m\u001b[38;5;241;43m.\u001b[39;49m\u001b[43mcheck_response\u001b[49m\u001b[43m(\u001b[49m\u001b[43mresponse\u001b[49m\u001b[43m)\u001b[49m\n\u001b[0;32m    349\u001b[0m     response[\u001b[38;5;124m\"\u001b[39m\u001b[38;5;124mvalue\u001b[39m\u001b[38;5;124m\"\u001b[39m] \u001b[38;5;241m=\u001b[39m \u001b[38;5;28mself\u001b[39m\u001b[38;5;241m.\u001b[39m_unwrap_value(response\u001b[38;5;241m.\u001b[39mget(\u001b[38;5;124m\"\u001b[39m\u001b[38;5;124mvalue\u001b[39m\u001b[38;5;124m\"\u001b[39m, \u001b[38;5;28;01mNone\u001b[39;00m))\n\u001b[0;32m    350\u001b[0m     \u001b[38;5;28;01mreturn\u001b[39;00m response\n",
      "File \u001b[1;32mc:\\Users\\hykimm\\AppData\\Local\\Programs\\Python\\Python312\\Lib\\site-packages\\selenium\\webdriver\\remote\\errorhandler.py:229\u001b[0m, in \u001b[0;36mErrorHandler.check_response\u001b[1;34m(self, response)\u001b[0m\n\u001b[0;32m    227\u001b[0m         alert_text \u001b[38;5;241m=\u001b[39m value[\u001b[38;5;124m\"\u001b[39m\u001b[38;5;124malert\u001b[39m\u001b[38;5;124m\"\u001b[39m]\u001b[38;5;241m.\u001b[39mget(\u001b[38;5;124m\"\u001b[39m\u001b[38;5;124mtext\u001b[39m\u001b[38;5;124m\"\u001b[39m)\n\u001b[0;32m    228\u001b[0m     \u001b[38;5;28;01mraise\u001b[39;00m exception_class(message, screen, stacktrace, alert_text)  \u001b[38;5;66;03m# type: ignore[call-arg]  # mypy is not smart enough here\u001b[39;00m\n\u001b[1;32m--> 229\u001b[0m \u001b[38;5;28;01mraise\u001b[39;00m exception_class(message, screen, stacktrace)\n",
      "\u001b[1;31mNoSuchWindowException\u001b[0m: Message: no such window: target window already closed\nfrom unknown error: web view not found\n  (Session info: chrome=120.0.6099.110)\nStacktrace:\n\tGetHandleVerifier [0x01056EE3+174339]\n\t(No symbol) [0x00F80A51]\n\t(No symbol) [0x00C96FF6]\n\t(No symbol) [0x00C7EFE7]\n\t(No symbol) [0x00CEB53B]\n\t(No symbol) [0x00CF9E7B]\n\t(No symbol) [0x00CE6DA6]\n\t(No symbol) [0x00CC1034]\n\t(No symbol) [0x00CC1F8D]\n\tGetHandleVerifier [0x010F4B1C+820540]\n\tsqlite3_dbdata_init [0x011B53EE+653550]\n\tsqlite3_dbdata_init [0x011B4E09+652041]\n\tsqlite3_dbdata_init [0x011A97CC+605388]\n\tsqlite3_dbdata_init [0x011B5D9B+656027]\n\t(No symbol) [0x00F8FE6C]\n\t(No symbol) [0x00F883B8]\n\t(No symbol) [0x00F884DD]\n\t(No symbol) [0x00F75818]\n\tBaseThreadInitThunk [0x75B0FCC9+25]\n\tRtlGetAppContainerNamedObjectPath [0x77037C6E+286]\n\tRtlGetAppContainerNamedObjectPath [0x77037C3E+238]\n"
     ]
    }
   ],
   "source": [
    "# 크롬드라이버 자동 설치\n",
    "chromedriver_autoinstaller.install()\n",
    "\n",
    "options = webdriver.ChromeOptions()\n",
    "options.add_argument('--no-sandbox')\n",
    "options.add_argument('--disable-dev-shm-usage')\n",
    "options.add_argument(\"user-agent=Mozilla/5.0 (Windows NT 10.0; Win64; x64) AppleWebKit/537.36 (KHTML, like Gecko) Chrome/120.0.0.0 Safari/537.36 Edg/120.0.0.0\")\n",
    "\n",
    "driver = webdriver.Chrome(options=options)\n",
    "\n",
    "# 크롬브라우저가 준비될 때 까지 최대 5초씩 대기\n",
    "driver.implicitly_wait(5)\n",
    "\n",
    "# 네이버 쇼핑 페이지로 이동\n",
    "driver.get(\"https://shopping.naver.com/market/emart/category?menu=20003203\")\n",
    "# 브라우저가 쇼핑 페이지로 이동하는 시간동안 대기\n",
    "time.sleep(1) \n",
    "\n",
    "\n"
   ]
  },
  {
   "cell_type": "markdown",
   "metadata": {},
   "source": [
    "### [3] 네이버 쇼핑 페이지에서 상품명과 해당 상품의 URL 저장\n",
    "\n",
    "#### (1)html 가져오기"
   ]
  },
  {
   "cell_type": "code",
   "execution_count": null,
   "metadata": {},
   "outputs": [],
   "source": [
    "myhtml = driver.page_source\n",
    "soup = BeautifulSoup(myhtml)\n",
    "content = soup.select(\".mRwMKURWPL\")[0].select(\"._1XCeEtFXwb\")\n",
    "while not content:\n",
    "    time.sleep(0.1)\n",
    "    myhtml = driver.page_source\n",
    "    soup = BeautifulSoup(myhtml)\n",
    "    content = soup.select(\".mRwMKURWPL\")[0].select(\"._1XCeEtFXwb\")\n",
    "# 원하는 소스를 가져오고 난 후 브라우저 종료\n",
    "driver.close()\n"
   ]
  },
  {
   "cell_type": "markdown",
   "metadata": {},
   "source": [
    "#### (2) 상품명, url 가져오기"
   ]
  },
  {
   "cell_type": "code",
   "execution_count": null,
   "metadata": {},
   "outputs": [],
   "source": [
    "# 상품명과 url을 가져오기 위해 빈 리스트 준비\n",
    "Titles = []\n",
    "product = []\n",
    "for item in content[:5]: #5개만 가져오기(문제조건)\n",
    "    # 같은 사이트 내에서는 도메인주소가 없어도 정상 작동하나 그렇지 않은경우 정상작동하지 않으므로 도메인 주소 추가\n",
    "    domain = 'https://shopping.naver.com'\n",
    "    # 상품명\n",
    "    Title = item.select(\"._1J1f1i2vk0\")[0].text\n",
    "    # 해당 상품의 URL\n",
    "    URL = domain + item.select(\"a\")[1].attrs['href']\n",
    "    Titles.append(Title)\n",
    "    product.append({Title:URL})\n",
    "\n"
   ]
  },
  {
   "cell_type": "markdown",
   "metadata": {},
   "source": [
    "### [4] 데이터베이스 접속 및 SQL 실행 객체 생성"
   ]
  },
  {
   "cell_type": "code",
   "execution_count": null,
   "metadata": {},
   "outputs": [],
   "source": [
    "dbcon = cx.connect('hr',                 \n",
    "                   'hr',                 \n",
    "                   'localhost:1521/xe'   \n",
    ")\n",
    "cursor = dbcon.cursor()"
   ]
  },
  {
   "cell_type": "markdown",
   "metadata": {},
   "source": [
    "### [5] 데이터베이스의 테이블 생성하기\n",
    "각 상품당 리뷰번호를 시퀸스를 이용하여 저장하고 해당 번호를 기본키로 사용한다.\n",
    "\n",
    "상품 테이블에 있는 이름을 외래키로 사용하여 테이블들을 연결한다.\n",
    "\n",
    "![그림](sql_DDL.PNG)\n"
   ]
  },
  {
   "cell_type": "markdown",
   "metadata": {},
   "source": [
    "## #02. 모듈화\n",
    "\n",
    "사용할 함수를 정의하여 비동기처리를 통해 효율을 높인다.\n",
    "- 상품명을 데이터베이스에 넣는 과정을 함수로 정의한다.\n",
    "- 얻어온 리뷰를 데이터베이스로 넣는 과정을 함수로 정의한다.\n",
    "- 리뷰를 얻어오는 과정을 함수로 정의한다.\n",
    "- 조회?"
   ]
  },
  {
   "cell_type": "markdown",
   "metadata": {},
   "source": [
    "### [1] 상품명을 데이터베이스로 넣는 함수 정의"
   ]
  },
  {
   "cell_type": "code",
   "execution_count": 51,
   "metadata": {},
   "outputs": [],
   "source": [
    "def pdInsertDB(cursor, dbcon, title):\n",
    "    try : # 이미 해당 데이터가 DB에 있으면 조회만하고 넘어간다.\n",
    "        sql = 'select pdname from product where pdname = :1'\n",
    "        cursor.execute(sql, [title])\n",
    "\n",
    "    except: # 존재하지 않을시 넣어준다.\n",
    "        sql = f'INSERT INTO product (pdno, pdname) VALUES (seq_product.nextval, :1)'\n",
    "        cursor.execute(sql, [title])\n",
    "        dbcon.commit()\n"
   ]
  },
  {
   "cell_type": "markdown",
   "metadata": {},
   "source": [
    "### [2] 얻어온 리뷰를 데이터베이스로 넣는 함수 정의"
   ]
  },
  {
   "cell_type": "code",
   "execution_count": 65,
   "metadata": {},
   "outputs": [],
   "source": [
    "def rvInsertDB(cursor, dbcon, review_content, review_date, review_value, review_result, pdno):\n",
    "    sql = f'select * from review where rvcontent = :1 and rvdatetime = :2 and rvvalue = :3'\n",
    "    cursor.execute(sql,[review_content,review_date,review_value])\n",
    "    result = cursor.fetchall()\n",
    "    if not result: # 해당 리뷰가 DB에 없을때만 넣어준다.\n",
    "        sql = f'INSERT INTO review (rvno, rvcontent, rvdatetime, rvvalue, rvresult, pdno) VALUES (seq_review.nextval, :1, :2, :3, :4, :5)'\n",
    "        try:\n",
    "            cursor.execute(sql, [review_content,review_date,review_value,review_result,pdno])\n",
    "            dbcon.commit()\n",
    "        except Exception as e:  \n",
    "            print('오류가 발생했습니다',e)\n",
    "        "
   ]
  },
  {
   "cell_type": "code",
   "execution_count": 64,
   "metadata": {},
   "outputs": [
    {
     "data": {
      "text/plain": [
       "[]"
      ]
     },
     "execution_count": 64,
     "metadata": {},
     "output_type": "execute_result"
    }
   ],
   "source": [
    "sql = 'select * from product where pdno=1'\n",
    "cursor.execute(sql)\n",
    "result = cursor.fetchall()\n",
    "result"
   ]
  },
  {
   "cell_type": "markdown",
   "metadata": {},
   "source": [
    "### [3] 리뷰를 얻어올 함수 정의"
   ]
  },
  {
   "cell_type": "code",
   "execution_count": 66,
   "metadata": {},
   "outputs": [],
   "source": [
    "def getReview(driver, dbcon, cursor, url, title, pdno):\n",
    "    fname = title+'.csv'\n",
    "    with open(fname,'w',encoding='utf-8') as f:\n",
    "        f.write(f'리뷰내용, 리뷰작성일, 별점, 긍정/부정분류결과\\n')\n",
    "        \n",
    "        driver = webdriver.Chrome(options=options)\n",
    "        # 크롬브라우저가 준비될 때 까지 최대 5초씩 대기\n",
    "        driver.implicitly_wait(5)\n",
    "        \n",
    "        \n",
    "        driver.get(url)\n",
    "        time.sleep(1) \n",
    "        driver.execute_script(\"window.scrollTo(0,document.body.scrollHeight);\") # 크롬 브라우져로 Javascript 코드 실행\n",
    "        time.sleep(3)\n",
    "        button = WebDriverWait(driver, 3).until(lambda x:x.find_element(By.CSS_SELECTOR,\"._2Q0vrZJNK1 a\"))\n",
    "        while not button:\n",
    "            driver.execute_script(\"window.scrollTo(0,document.body.scrollHeight);\") # 크롬 브라우져로 Javascript 코드 실행\n",
    "            time.sleep(3)\n",
    "            button = WebDriverWait(driver, 3).until(lambda x:x.find_element(By.CSS_SELECTOR,\"._2Q0vrZJNK1 a\"))\n",
    "\n",
    "        button.click()\n",
    "        time.sleep(3)\n",
    "        \n",
    "        myhtml = driver.page_source\n",
    "        soup = BeautifulSoup(myhtml)\n",
    "        total_review = int(re.sub('[^0-9]','',soup.select(\"._2Q0vrZJNK1 a\")[0].text ))\n",
    "        extra_page = 0\n",
    "        if total_review%20 :\n",
    "            extra_page =1\n",
    "        page_num = total_review//20 + extra_page\n",
    "        # print(page_num)\n",
    "        prev_review = ''\n",
    "        page = 0\n",
    "        while page<page_num:\n",
    "            if page:\n",
    "                next = WebDriverWait(driver, 3).until(lambda x:x.find_element(By.CSS_SELECTOR,\"._1kSau7aQAr  ._2Ar8-aEUTq\"))\n",
    "                try:\n",
    "                    next.click()\n",
    "                except: \n",
    "                    break\n",
    "                time.sleep(0.3)\n",
    "            \n",
    "            myhtml1 = driver.page_source\n",
    "            soup1 = BeautifulSoup(myhtml1)\n",
    "            REVIEW_ALL = soup1.select(\"._2DIJt-FWPQ\")\n",
    "            while not REVIEW_ALL:\n",
    "                time.sleep(0.1)\n",
    "                REVIEW_ALL = soup1.select(\"._2DIJt-FWPQ\")\n",
    "            REVIEW_ALL = REVIEW_ALL[0]\n",
    "            review = REVIEW_ALL.select(\".BnwL_cs1av\")\n",
    "            \n",
    "            if prev_review == REVIEW_ALL : continue\n",
    "            prev_review = REVIEW_ALL\n",
    "            for rev in review:\n",
    "                review_value = int(rev.select('em')[0].text.strip())\n",
    "                review_date = rev.select(\"._2L3vDiadT9\")[1].text.strip()\n",
    "                review_date = review_date.replace('.','-')[:len(review_date)-1]\n",
    "                review_content = rev.select('._1kMfD5ErZ6')[0].text.strip()\n",
    "                # f.write(f'리뷰내용, 리뷰작성일, 별점, 긍정/부정분류결과\\n')\n",
    "                review_result = '부정'\n",
    "                if review_value >=3 : review_result = '긍정'\n",
    "                f.write(f'\"{review_content}\", {review_date}, {review_value}, {review_result}\\n')\n",
    "                time.sleep(0.001)\n",
    "                rvInsertDB(cursor, dbcon, review_content, review_date, review_value, review_result, pdno)\n",
    "                    \n",
    "                \n",
    "            page +=1\n",
    "    driver.close()\n"
   ]
  },
  {
   "cell_type": "markdown",
   "metadata": {},
   "source": [
    "## #03. 실행"
   ]
  },
  {
   "cell_type": "markdown",
   "metadata": {},
   "source": [
    "### [1] 상품명을 데이터베이스에 입력"
   ]
  },
  {
   "cell_type": "code",
   "execution_count": null,
   "metadata": {},
   "outputs": [],
   "source": [
    "for title in Titles:\n",
    "    pdInsertDB(cursor, dbcon, title)"
   ]
  },
  {
   "cell_type": "markdown",
   "metadata": {},
   "source": [
    "### [2] 리뷰를 데이터베이스에 입력"
   ]
  },
  {
   "cell_type": "code",
   "execution_count": 67,
   "metadata": {},
   "outputs": [
    {
     "name": "stdout",
     "output_type": "stream",
     "text": [
      "오류가 발생했습니다 ORA-12899: \"HR\".\"REVIEW\".\"RVCONTENT\" 열에 대한 값이 너무 큼(실제: 1587, 최대값: 1200)\n"
     ]
    }
   ],
   "source": [
    "for i,v in enumerate(product):\n",
    "    title = Titles[i]\n",
    "    url = v[title]\n",
    "    sql = 'select pdno from product where pdname = :1'\n",
    "    cursor.execute(sql,[title])\n",
    "    pdno = cursor.fetchall()[0][0]\n",
    "    getReview(driver, dbcon, cursor, url, title, pdno)"
   ]
  },
  {
   "cell_type": "code",
   "execution_count": 58,
   "metadata": {},
   "outputs": [
    {
     "name": "stdout",
     "output_type": "stream",
     "text": [
      "[{'피코크 샤브샤브 요리재료 870g': 'https://shopping.naver.com/window-products/emart/5908733289?tr=mktcat'}, {'[피코크] 감바스 알 아히요 448g': 'https://shopping.naver.com/window-products/emart/5908730562?tr=mktcat'}, {'[피코크] 된장찌개 요리재료 780g': 'https://shopping.naver.com/window-products/emart/5908293485?tr=mktcat'}, {'[피코크] 마라샹궈 408g': 'https://shopping.naver.com/window-products/emart/5908736573?tr=mktcat'}, {'[피코크 X 초마] 짬뽕 밀키트 672g': 'https://shopping.naver.com/window-products/emart/5908297039?tr=mktcat'}]\n"
     ]
    }
   ],
   "source": [
    "# product = [{'피코크 샤브샤브 요리재료 870g': 'https://shopping.naver.com/window-products/emart/5908733289?tr=mktcat'}, {'[피코크] 감바스 알 아히요 448g': 'https://shopping.naver.com/window-products/emart/5908730562?tr=mktcat'}, {'[피코크] 된장찌개 요리재료 780g': 'https://shopping.naver.com/window-products/emart/5908293485?tr=mktcat'}, {'[피코크] 마라샹궈 408g': 'https://shopping.naver.com/window-products/emart/5908736573?tr=mktcat'}, {'[피코크 X 초마] 짬뽕 밀키트 672g': 'https://shopping.naver.com/window-products/emart/5908297039?tr=mktcat'}]\n"
   ]
  },
  {
   "cell_type": "markdown",
   "metadata": {},
   "source": [
    "### [3] 데이터베이스를 조회하여 하나의 결과 집합으로 표현"
   ]
  },
  {
   "cell_type": "code",
   "execution_count": 86,
   "metadata": {},
   "outputs": [
    {
     "data": {
      "text/html": [
       "<div>\n",
       "<style scoped>\n",
       "    .dataframe tbody tr th:only-of-type {\n",
       "        vertical-align: middle;\n",
       "    }\n",
       "\n",
       "    .dataframe tbody tr th {\n",
       "        vertical-align: top;\n",
       "    }\n",
       "\n",
       "    .dataframe thead th {\n",
       "        text-align: right;\n",
       "    }\n",
       "</style>\n",
       "<table border=\"1\" class=\"dataframe\">\n",
       "  <thead>\n",
       "    <tr style=\"text-align: right;\">\n",
       "      <th></th>\n",
       "      <th>상품명</th>\n",
       "      <th>긍정_개수</th>\n",
       "      <th>부정_개수</th>\n",
       "    </tr>\n",
       "  </thead>\n",
       "  <tbody>\n",
       "    <tr>\n",
       "      <th>0</th>\n",
       "      <td>[피코크] 감바스 알 아히요 448g</td>\n",
       "      <td>1032</td>\n",
       "      <td>12</td>\n",
       "    </tr>\n",
       "    <tr>\n",
       "      <th>1</th>\n",
       "      <td>[피코크] 된장찌개 요리재료 780g</td>\n",
       "      <td>1522</td>\n",
       "      <td>9</td>\n",
       "    </tr>\n",
       "    <tr>\n",
       "      <th>2</th>\n",
       "      <td>피코크 샤브샤브 요리재료 870g</td>\n",
       "      <td>2512</td>\n",
       "      <td>38</td>\n",
       "    </tr>\n",
       "    <tr>\n",
       "      <th>3</th>\n",
       "      <td>[피코크 X 초마] 짬뽕 밀키트 672g</td>\n",
       "      <td>1312</td>\n",
       "      <td>23</td>\n",
       "    </tr>\n",
       "    <tr>\n",
       "      <th>4</th>\n",
       "      <td>[피코크] 마라샹궈 408g</td>\n",
       "      <td>600</td>\n",
       "      <td>4</td>\n",
       "    </tr>\n",
       "  </tbody>\n",
       "</table>\n",
       "</div>"
      ],
      "text/plain": [
       "                      상품명  긍정_개수  부정_개수\n",
       "0    [피코크] 감바스 알 아히요 448g   1032     12\n",
       "1    [피코크] 된장찌개 요리재료 780g   1522      9\n",
       "2      피코크 샤브샤브 요리재료 870g   2512     38\n",
       "3  [피코크 X 초마] 짬뽕 밀키트 672g   1312     23\n",
       "4         [피코크] 마라샹궈 408g    600      4"
      ]
     },
     "execution_count": 86,
     "metadata": {},
     "output_type": "execute_result"
    }
   ],
   "source": [
    "sql = '''\n",
    "SELECT\n",
    "  p.pdname as 상품명,\n",
    "  COUNT(CASE WHEN r.rvresult = '긍정' THEN r.pdno END) AS 긍정_개수,\n",
    "  COUNT(CASE WHEN r.rvresult = '부정' THEN r.pdno END) AS 부정_개수\n",
    "FROM\n",
    "  review r\n",
    "JOIN\n",
    "  product p ON r.pdno = p.pdno\n",
    "GROUP BY\n",
    "  p.pdname\n",
    "'''\n",
    "cursor.execute(sql)\n",
    "result = cursor.fetchall()\n",
    "\n",
    "df = DataFrame(result, columns=['상품명', '긍정_개수', '부정_개수'])\n",
    "df"
   ]
  },
  {
   "cell_type": "code",
   "execution_count": 89,
   "metadata": {},
   "outputs": [
    {
     "data": {
      "text/html": [
       "<div>\n",
       "<style scoped>\n",
       "    .dataframe tbody tr th:only-of-type {\n",
       "        vertical-align: middle;\n",
       "    }\n",
       "\n",
       "    .dataframe tbody tr th {\n",
       "        vertical-align: top;\n",
       "    }\n",
       "\n",
       "    .dataframe thead th {\n",
       "        text-align: right;\n",
       "    }\n",
       "</style>\n",
       "<table border=\"1\" class=\"dataframe\">\n",
       "  <thead>\n",
       "    <tr style=\"text-align: right;\">\n",
       "      <th></th>\n",
       "      <th>상품명</th>\n",
       "      <th>리뷰내용</th>\n",
       "      <th>리뷰날짜</th>\n",
       "      <th>별점</th>\n",
       "      <th>긍정/부정 분류 결과</th>\n",
       "    </tr>\n",
       "  </thead>\n",
       "  <tbody>\n",
       "    <tr>\n",
       "      <th>0</th>\n",
       "      <td>[피코크] 감바스 알 아히요 448g</td>\n",
       "      <td>향이 조금 독특했고요. 양은 생각보다 많았습니다. 새우도 맛있었어요.</td>\n",
       "      <td>23-03-17</td>\n",
       "      <td>3</td>\n",
       "      <td>긍정</td>\n",
       "    </tr>\n",
       "    <tr>\n",
       "      <th>1</th>\n",
       "      <td>[피코크] 감바스 알 아히요 448g</td>\n",
       "      <td>자주 사먹는데 맛나요</td>\n",
       "      <td>23-03-10</td>\n",
       "      <td>5</td>\n",
       "      <td>긍정</td>\n",
       "    </tr>\n",
       "    <tr>\n",
       "      <th>2</th>\n",
       "      <td>[피코크] 감바스 알 아히요 448g</td>\n",
       "      <td>한달사용기새우 추가하니 맛있어요</td>\n",
       "      <td>23-03-29</td>\n",
       "      <td>5</td>\n",
       "      <td>긍정</td>\n",
       "    </tr>\n",
       "    <tr>\n",
       "      <th>3</th>\n",
       "      <td>[피코크] 감바스 알 아히요 448g</td>\n",
       "      <td>한번 먹기에 괜찮아요</td>\n",
       "      <td>23-03-28</td>\n",
       "      <td>5</td>\n",
       "      <td>긍정</td>\n",
       "    </tr>\n",
       "    <tr>\n",
       "      <th>4</th>\n",
       "      <td>[피코크] 감바스 알 아히요 448g</td>\n",
       "      <td>키트 설명서대로 만들어서 먹고 파스타면까지 데쳐서  비벼 먹었어요.</td>\n",
       "      <td>23-03-02</td>\n",
       "      <td>5</td>\n",
       "      <td>긍정</td>\n",
       "    </tr>\n",
       "    <tr>\n",
       "      <th>...</th>\n",
       "      <td>...</td>\n",
       "      <td>...</td>\n",
       "      <td>...</td>\n",
       "      <td>...</td>\n",
       "      <td>...</td>\n",
       "    </tr>\n",
       "    <tr>\n",
       "      <th>7059</th>\n",
       "      <td>피코크 샤브샤브 요리재료 870g</td>\n",
       "      <td>맛있어요 \\n고기추가해서 먹으니 좋아요</td>\n",
       "      <td>23-01-08</td>\n",
       "      <td>5</td>\n",
       "      <td>긍정</td>\n",
       "    </tr>\n",
       "    <tr>\n",
       "      <th>7060</th>\n",
       "      <td>피코크 샤브샤브 요리재료 870g</td>\n",
       "      <td>재료 신선하고 넘 맛나요 칼국수까지 맛있어요</td>\n",
       "      <td>22-12-20</td>\n",
       "      <td>5</td>\n",
       "      <td>긍정</td>\n",
       "    </tr>\n",
       "    <tr>\n",
       "      <th>7061</th>\n",
       "      <td>피코크 샤브샤브 요리재료 870g</td>\n",
       "      <td>재구매대접용으로 좋아요 고기는 따로 사야 좋아요</td>\n",
       "      <td>23-01-27</td>\n",
       "      <td>5</td>\n",
       "      <td>긍정</td>\n",
       "    </tr>\n",
       "    <tr>\n",
       "      <th>7062</th>\n",
       "      <td>피코크 샤브샤브 요리재료 870g</td>\n",
       "      <td>재구매샤브샤브 요리재료 피코크 간편한 요리도 맛있어요.</td>\n",
       "      <td>23-01-14</td>\n",
       "      <td>5</td>\n",
       "      <td>긍정</td>\n",
       "    </tr>\n",
       "    <tr>\n",
       "      <th>7063</th>\n",
       "      <td>피코크 샤브샤브 요리재료 870g</td>\n",
       "      <td>고기 안들어있는걸 못봤네요 깔끔하게 잘 먹엇어오</td>\n",
       "      <td>23-01-08</td>\n",
       "      <td>5</td>\n",
       "      <td>긍정</td>\n",
       "    </tr>\n",
       "  </tbody>\n",
       "</table>\n",
       "<p>7064 rows × 5 columns</p>\n",
       "</div>"
      ],
      "text/plain": [
       "                       상품명                                    리뷰내용      리뷰날짜  \\\n",
       "0     [피코크] 감바스 알 아히요 448g  향이 조금 독특했고요. 양은 생각보다 많았습니다. 새우도 맛있었어요.  23-03-17   \n",
       "1     [피코크] 감바스 알 아히요 448g                             자주 사먹는데 맛나요  23-03-10   \n",
       "2     [피코크] 감바스 알 아히요 448g                       한달사용기새우 추가하니 맛있어요  23-03-29   \n",
       "3     [피코크] 감바스 알 아히요 448g                             한번 먹기에 괜찮아요  23-03-28   \n",
       "4     [피코크] 감바스 알 아히요 448g   키트 설명서대로 만들어서 먹고 파스타면까지 데쳐서  비벼 먹었어요.  23-03-02   \n",
       "...                    ...                                     ...       ...   \n",
       "7059    피코크 샤브샤브 요리재료 870g                   맛있어요 \\n고기추가해서 먹으니 좋아요  23-01-08   \n",
       "7060    피코크 샤브샤브 요리재료 870g                재료 신선하고 넘 맛나요 칼국수까지 맛있어요  22-12-20   \n",
       "7061    피코크 샤브샤브 요리재료 870g              재구매대접용으로 좋아요 고기는 따로 사야 좋아요  23-01-27   \n",
       "7062    피코크 샤브샤브 요리재료 870g          재구매샤브샤브 요리재료 피코크 간편한 요리도 맛있어요.  23-01-14   \n",
       "7063    피코크 샤브샤브 요리재료 870g              고기 안들어있는걸 못봤네요 깔끔하게 잘 먹엇어오  23-01-08   \n",
       "\n",
       "      별점 긍정/부정 분류 결과  \n",
       "0      3          긍정  \n",
       "1      5          긍정  \n",
       "2      5          긍정  \n",
       "3      5          긍정  \n",
       "4      5          긍정  \n",
       "...   ..         ...  \n",
       "7059   5          긍정  \n",
       "7060   5          긍정  \n",
       "7061   5          긍정  \n",
       "7062   5          긍정  \n",
       "7063   5          긍정  \n",
       "\n",
       "[7064 rows x 5 columns]"
      ]
     },
     "execution_count": 89,
     "metadata": {},
     "output_type": "execute_result"
    }
   ],
   "source": [
    "sql = '''\n",
    "select p.pdname, r.rvcontent, r.rvdatetime, r.rvvalue, r.rvresult\n",
    "from review r\n",
    "join product p\n",
    "on p.pdno = r.pdno\n",
    "'''\n",
    "cursor.execute(sql)\n",
    "result = cursor.fetchall()\n",
    "df = DataFrame(result, columns=['상품명', '리뷰내용', '리뷰날짜','별점','긍정/부정 분류 결과'])\n",
    "df"
   ]
  },
  {
   "cell_type": "markdown",
   "metadata": {},
   "source": [
    "## #04. 과제 수행시 겪은 시행착오 및 보완사항\n",
    "### [1] 시행착오\n",
    "#### (1) 비동기처리\n",
    "\n",
    "작업의 효율성을 위해 리뷰를 DB에 넣는 작업을 비동기처리로 작업하려 하였으나 DB에 일부 저장되지 않는 경우가 계속해서 발생하였음\n",
    "\n",
    "비동기처리를 하지 않았음에도 작업속도 차이가 유의미한 차이를 보이지 않아서 그냥 뺌\n",
    "\n",
    "\n",
    "\n"
   ]
  },
  {
   "cell_type": "markdown",
   "metadata": {},
   "source": [
    "### [2] 보완점\n",
    "#### (1)"
   ]
  }
 ],
 "metadata": {
  "kernelspec": {
   "display_name": "Python 3",
   "language": "python",
   "name": "python3"
  },
  "language_info": {
   "codemirror_mode": {
    "name": "ipython",
    "version": 3
   },
   "file_extension": ".py",
   "mimetype": "text/x-python",
   "name": "python",
   "nbconvert_exporter": "python",
   "pygments_lexer": "ipython3",
   "version": "3.12.0"
  }
 },
 "nbformat": 4,
 "nbformat_minor": 2
}
