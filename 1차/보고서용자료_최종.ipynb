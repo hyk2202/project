{
 "cells": [
  {
   "cell_type": "markdown",
   "metadata": {},
   "source": [
    "# 첫번째 프로젝트\n",
    "\n",
    "최대한 많은 리뷰를 수집하고 별점을 기준으로 3점 이상은 긍정 덧글, 3점 미만은 부정 덧글로 분류하여 데이터베이스에 저장하고자 한다.\n",
    "\n",
    "자신이 관심을 갖는 상품 종류를 선정하여 네이버 쇼핑에서 5개 이상의 상품을 선정하여 상품의 이름을 데이터베이스 테이블에 저장하시오. 상품의 이름은 파이썬을 활용하지 않고 직접 INSERT문을 사용해도 좋습니다. 그리고 각 상품에 대한 모든 리뷰를 수집하시오. 수집된 리뷰를 데이터베이스 테이블에 저장하면서 별점 3점 이상은 리뷰는 긍정, 별점 3점 미만은 부정으로 표시하는 컬럼을 추가해야 합니다. 이 필드는 향후 분류분석(로지스틱회귀)에 활용될 수 있습니다.\n",
    "\n",
    "요구사항\n",
    "1. 상품 정보를 저장하기 위한 테이블과 리뷰를 저장하기 위한 테이블의 구조표와 테이블 생성 구문을 제시\n",
    "하고 리뷰를 수집하기 위해 작성한 소스코드와 각 단계별 실행 결과 및 설명을 제시하시오. \n",
    "2. 프로그램의 수행 결과를 확인하기 위해 상품 이름과 리뷰 내용, 리뷰 작성일, 별점, 긍정/부정 분류 결\n",
    "과 등의 데이터가 저장되어 있는 상태를 파이썬을 통해 조회하여 하나의 결과 집합으로 표시한 스크린샷\n",
    "을 제시하세요.\n",
    "3. 각각의 동작 단위를 2개 이상 모듈화 하세요.\n",
    "4. 이 과정을 완성하여 발표자료를 작성후 제출하고 직접 발표를 수행합니다.\n",
    "5. 과제를 수행하면서 겪은 에러 및 문제점을 모두 제시하고 이를 해결하기 위한 과정도 제시하세요. \n",
    "6. 이 과제를 수행하면서 느낀점을 서술하고 향후 자신이 어떤 부분을 보완해야 할지 제시하세요."
   ]
  },
  {
   "cell_type": "markdown",
   "metadata": {},
   "source": [
    "## #01. 준비과정\n",
    "\n",
    "### [1] 패키지 참조"
   ]
  },
  {
   "cell_type": "code",
   "execution_count": 1,
   "metadata": {},
   "outputs": [],
   "source": [
    "# ChromeDriver 자동 설치 모듈\n",
    "import chromedriver_autoinstaller\n",
    "# Chrome을 제어하기 위한 객체\n",
    "from selenium import webdriver\n",
    "# Chrome이 웹 페이지 로딩을 완료 할 때까지 최대 n초간 대기하는 기능.\n",
    "from selenium.webdriver.support.ui import WebDriverWait\n",
    "# HTML 파서\n",
    "from bs4 import BeautifulSoup\n",
    "# 파이썬 프로그램에 지정된 시간동안 랙을 거는 기능을 위해 사용\n",
    "import time\n",
    "# HTML요소를 가져오는 방법을 지정하기 위한 구조체\n",
    "from selenium.webdriver.common.by import By\n",
    "# 파일 저장시 파일 이름 조정을 위한 모듈\n",
    "import re\n",
    "# 오라클연동을 위한 모듈\n",
    "import cx_Oracle as cx\n",
    "# 입력한 데이터의 결과를 보기 위한 모듈\n",
    "from pandas import DataFrame\n"
   ]
  },
  {
   "cell_type": "markdown",
   "metadata": {},
   "source": [
    "### [3] 네이버 쇼핑 페이지에서 상품명과 해당 상품의 URL 저장\n",
    "\n",
    "#### (1)html 가져오기"
   ]
  },
  {
   "cell_type": "code",
   "execution_count": 22,
   "metadata": {},
   "outputs": [],
   "source": [
    "chromedriver_autoinstaller.install()\n",
    "driver = webdriver.Chrome()\n",
    "driver.implicitly_wait(5)\n",
    "\n",
    "# 네이버 쇼핑 페이지로 이동\n",
    "driver.get(\"https://shopping.naver.com/\")\n",
    "# 브라우저가 쇼핑 페이지로 이동하는 시간동안 대기\n",
    "time.sleep(1) \n",
    "\n",
    "myhtml1 = driver.page_source\n",
    "soup = BeautifulSoup(myhtml1)\n",
    "content = soup.select('#content  div.shoppingHomeResponsive_category__ub5P_ > div > div.shoppingCategoryListResponsive_inner__qJbsp > ul:nth-child(1) > li:nth-child(5) > a')[0]['href']\n",
    "driver.get(content)\n",
    "time.sleep(3)\n",
    "myhtml = driver.page_source\n",
    "while myhtml == myhtml1:\n",
    "    myhtml = driver.page_source\n",
    "soup = BeautifulSoup(myhtml)\n",
    "content = \"https://shopping.naver.com\" + soup.select('#content > div._2hV4tcE3Zy > div > ul > li:nth-child(2) > a')[0]['href']\n",
    "driver.get(content)\n",
    "time.sleep(3)\n",
    "\n",
    "search = WebDriverWait(driver, 3).until(lambda x:x.find_element(By.CSS_SELECTOR,\"._1QmWvlfXgs\"))\n",
    "search.click()\n",
    "searchWord = WebDriverWait(driver, 3).until(lambda x:x.find_element(By.CSS_SELECTOR,\"#searchWord\"))\n",
    "searchWord.clear() # 기존 입력값 삭제\n",
    "searchWord.send_keys('밀키트')\n",
    "\n",
    "searchButton = WebDriverWait(driver, 3).until(lambda x:x.find_element(By.CSS_SELECTOR,\"._9tjNwJRxqV\"))\n",
    "searchButton.click()\n",
    "time.sleep(3)\n",
    "myhtml = driver.page_source\n",
    "soup = BeautifulSoup(myhtml)\n",
    "content = soup.select(\".product_wrap\")[0].select(\"._3m7zfsGIZR\")\n",
    "while not content:\n",
    "    time.sleep(0.1)\n",
    "    myhtml = driver.page_source\n",
    "    soup = BeautifulSoup(myhtml)\n",
    "    content = soup.select(\".product_wrap\")[0].select(\"._3m7zfsGIZR\")\n",
    "# 원하는 소스를 가져오고 난 후 브라우저 종료\n",
    "driver.close()\n",
    "\n",
    "\n"
   ]
  },
  {
   "cell_type": "markdown",
   "metadata": {},
   "source": [
    "#### (2) 상품명, url 가져오기"
   ]
  },
  {
   "cell_type": "code",
   "execution_count": 79,
   "metadata": {},
   "outputs": [
    {
     "name": "stdout",
     "output_type": "stream",
     "text": [
      "['피코크 우리집 돼지고기김치찌개 500g', '[피코크 X 초마] 짬뽕 밀키트 672g', '피코크 의정부식 부대찌개 700g', '[피코크] 냉이된장찌개 밀키트', '노브랜드 베트남쌀국수간편세트 202g']\n"
     ]
    },
    {
     "data": {
      "text/plain": [
       "[{'피코크 우리집 돼지고기김치찌개 500g': 'https://shopping.naver.com/window-products/emart/5899071138?tr=swsc'},\n",
       " {'[피코크 X 초마] 짬뽕 밀키트 672g': 'https://shopping.naver.com/window-products/emart/5908297039?tr=swsc'},\n",
       " {'피코크 의정부식 부대찌개 700g': 'https://shopping.naver.com/window-products/emart/5908735163?tr=swsc'},\n",
       " {'[피코크] 냉이된장찌개 밀키트': 'https://shopping.naver.com/window-products/emart/5908297926?tr=swsc'},\n",
       " {'노브랜드 베트남쌀국수간편세트 202g': 'https://shopping.naver.com/window-products/emart/5899538869?tr=swsc'}]"
      ]
     },
     "execution_count": 79,
     "metadata": {},
     "output_type": "execute_result"
    }
   ],
   "source": [
    "# 상품명과 url을 수집하기 위해 빈 리스트 준비\n",
    "Titles = []\n",
    "product = []\n",
    "for item in content[:5]: #5개만 가져오기\n",
    "    # 같은 사이트 내에서는 도메인주소 없이 사용하므로 url에 추가할 도메인주소 준비\n",
    "    domain = 'https://shopping.naver.com'\n",
    "    # 상품명\n",
    "    Title = item.select(\"._1J1f1i2vk0\")[0].text\n",
    "    # 해당 상품의 URL\n",
    "    URL = domain + item.select(\"a\")[1].attrs['href']\n",
    "    Titles.append(Title)\n",
    "    product.append({Title:URL})\n",
    "print(Titles)\n",
    "product\n"
   ]
  },
  {
   "cell_type": "markdown",
   "metadata": {},
   "source": [
    "### [4] 데이터베이스 접속 및 SQL 실행 객체 생성"
   ]
  },
  {
   "cell_type": "code",
   "execution_count": 2,
   "metadata": {},
   "outputs": [],
   "source": [
    "dbcon = cx.connect('hr',                 \n",
    "                   'hr',                 \n",
    "                   'localhost:1521/xe'   \n",
    ")\n",
    "cursor = dbcon.cursor()"
   ]
  },
  {
   "cell_type": "markdown",
   "metadata": {},
   "source": [
    "### [5] 데이터베이스의 테이블 생성하기\n",
    "각 상품당 리뷰번호를 시퀸스를 이용하여 저장하고 해당 번호를 기본키로 사용한다.\n",
    "\n",
    "상품 테이블에 있는 이름을 외래키로 사용하여 테이블들을 연결한다.\n",
    "\n",
    "![그림](sql_DDL.PNG)\n"
   ]
  },
  {
   "cell_type": "code",
   "execution_count": null,
   "metadata": {},
   "outputs": [],
   "source": [
    "sql = '''\n",
    "CREATE TABLE PRODUCT(\n",
    "    PDNO NUMBER NOT NULL,\n",
    "    PDNAME VARCHAR2(1200) NOT NULL,\n",
    "    PRIMARY KEY(PDNO)\n",
    ")\n",
    "'''\n",
    "cursor.execute(sql)\n",
    "sql = 'CREATE SEQUENCE SEQ_PRODUCT START WITH 1 INCREMENT BY 1'\n",
    "\n",
    "cursor.execute(sql)\n",
    "sql = '''\n",
    "CREATE TABLE REVIEW(\n",
    "    RVNO NUMBER NOT NULL,\n",
    "    RVCONTENT VARCHAR2(1200) NULL,\n",
    "    RVDATETIME VARCHAR2(20) NOT NULL,\n",
    "    RVVALUE NUMBER NOT NULL,\n",
    "    RVRESULT VARCHAR2(10) NOT NULL,\n",
    "    PDNO NUMBER NOT NULL,\n",
    "    PRIMARY KEY (RVNO),\n",
    "    FOREIGN KEY (PDNO) REFERENCES PRODUCT (PDNO)\n",
    ")\n",
    "'''\n",
    "cursor.execute(sql)\n",
    "sql = 'CREATE SEQUENCE SEQ_REVIEW START WITH 1 INCREMENT BY 1'\n",
    "cursor.execute(sql)\n",
    "\n",
    "\n",
    "\n"
   ]
  },
  {
   "cell_type": "markdown",
   "metadata": {},
   "source": [
    "## #02. 모듈화\n",
    "\n",
    "사용할 함수를 정의하여 비동기처리를 통해 효율을 높인다.\n",
    "- 상품명을 데이터베이스에 넣는 과정을 함수로 정의한다.\n",
    "- 얻어온 리뷰를 데이터베이스로 넣는 과정을 함수로 정의한다.\n",
    "- 리뷰를 얻어오는 과정을 함수로 정의한다.\n",
    "- 조회?"
   ]
  },
  {
   "cell_type": "markdown",
   "metadata": {},
   "source": [
    "### [1] 상품명을 데이터베이스로 넣는 함수 정의"
   ]
  },
  {
   "cell_type": "code",
   "execution_count": 55,
   "metadata": {},
   "outputs": [],
   "source": [
    "def pdInsertDB(cursor, dbcon, title):\n",
    "    sql = 'select pdname from product where pdname = :1'\n",
    "    cursor.execute(sql, [title])\n",
    "    if not cursor.fetchall(): # 이미 해당 데이터가 DB에 있으면 조회만하고 넘어간다.\n",
    "        sql = f'INSERT INTO product (pdno, pdname) VALUES (seq_product.nextval, :1)'\n",
    "        cursor.execute(sql, [title])\n",
    "        print('입력되었습니다')\n",
    "        dbcon.commit()"
   ]
  },
  {
   "cell_type": "markdown",
   "metadata": {},
   "source": [
    "### [2] 얻어온 리뷰를 데이터베이스로 넣는 함수 정의"
   ]
  },
  {
   "cell_type": "code",
   "execution_count": 37,
   "metadata": {},
   "outputs": [],
   "source": [
    "def rvInsertDB(cursor, dbcon, review_content, review_date, review_value, review_result, pdno):\n",
    "    sql = f'select * from review where rvcontent = :1 and rvdatetime = :2 and rvvalue = :3'\n",
    "    cursor.execute(sql,[review_content,review_date,review_value])\n",
    "    result = cursor.fetchall()\n",
    "    if not result: # 해당 리뷰가 DB에 없을때만 넣어준다.\n",
    "        sql = f'INSERT INTO review (rvno, rvcontent, rvdatetime, rvvalue, rvresult, pdno) VALUES (seq_review.nextval, :1, :2, :3, :4, :5)'\n",
    "        try:\n",
    "            cursor.execute(sql, [review_content,review_date,review_value,review_result,pdno])\n",
    "            dbcon.commit()\n",
    "        except Exception as e:  \n",
    "            print('오류가 발생했습니다',e)\n",
    "            review_content = '' # 리뷰 내용이 DB에 들어가기 너무 큰 경우 내용 삭제\n",
    "            try:\n",
    "                cursor.execute(sql, [review_content,review_date,review_value,review_result,pdno])\n",
    "                dbcon.commit()\n",
    "            except Exception as e:\n",
    "                print('오류가 발생했습니다',e)\n",
    "        "
   ]
  },
  {
   "cell_type": "markdown",
   "metadata": {},
   "source": [
    "### [3] 리뷰를 얻어올 함수 정의"
   ]
  },
  {
   "cell_type": "code",
   "execution_count": 38,
   "metadata": {},
   "outputs": [],
   "source": [
    "def getReview(driver, dbcon, cursor, url, pdno):\n",
    "    driver = webdriver.Chrome()\n",
    "    # 크롬브라우저가 준비될 때 까지 최대 5초씩 대기\n",
    "    driver.implicitly_wait(5)\n",
    "    driver.get(url)\n",
    "    # 페이지 이동시간 대기\n",
    "    time.sleep(1) \n",
    "    driver.execute_script(\"window.scrollTo(0,document.body.scrollHeight);\")\n",
    "    # 스크롤 이동시간 대기\n",
    "    time.sleep(3)\n",
    "    button = WebDriverWait(driver, 3).until(lambda x:x.find_element(By.CSS_SELECTOR,\"._2Q0vrZJNK1 a\"))\n",
    "    while not button: # 이동시간이 부족했다면 재실행\n",
    "        driver.execute_script(\"window.scrollTo(0,document.body.scrollHeight);\") \n",
    "        time.sleep(3)\n",
    "        button = WebDriverWait(driver, 3).until(lambda x:x.find_element(By.CSS_SELECTOR,\"._2Q0vrZJNK1 a\"))\n",
    "    button.click()\n",
    "    time.sleep(3)\n",
    "    myhtml = driver.page_source\n",
    "    soup = BeautifulSoup(myhtml)\n",
    "    total_review = int(re.sub('[^0-9]','',soup.select(\"._2Q0vrZJNK1 a\")[0].text )) # 전체 리뷰수를 가져올때 `,` 또는 기타 다른 글자가 있을 시 삭제\n",
    "    page_num = total_review//20 + 1 if total_review%20 else 0\n",
    "    page = 0\n",
    "    prev_review = '' # 이전페이지의 내용을 가져왔는지 아닌지 확인\n",
    "    while page<page_num: # 리뷰가져오는건 페이지 넘버수만큼 다음버튼은 페이지 넘버수-1만큼 실행\n",
    "        if page:\n",
    "            next = WebDriverWait(driver, 3).until(lambda x:x.find_element(By.CSS_SELECTOR,\"._1kSau7aQAr  ._2Ar8-aEUTq\")) # 다음페이지 버튼\n",
    "            next.click()\n",
    "            time.sleep(0.3)\n",
    "        myhtml1 = driver.page_source\n",
    "        while prev_review == myhtml1: # 페이지로딩이 되기 전 이전소스를 가져오면 잠시 대기후 다시가져온다\n",
    "            time.sleep(0.3)\n",
    "            myhtml1 = driver.page_source\n",
    "        prev_review = myhtml1\n",
    "        soup1 = BeautifulSoup(myhtml1)\n",
    "        REVIEW_ALL = soup1.select(\"._2DIJt-FWPQ\")\n",
    "        while not REVIEW_ALL:\n",
    "            time.sleep(0.1)\n",
    "            REVIEW_ALL = soup1.select(\"._2DIJt-FWPQ\")\n",
    "        REVIEW_ALL = REVIEW_ALL[0]\n",
    "        review = REVIEW_ALL.select(\".BnwL_cs1av\")\n",
    "        for rev in review:\n",
    "            review_value = int(rev.select('em')[0].text.strip())\n",
    "            review_date = rev.select(\"._2L3vDiadT9\")[1].text.strip().replace('.','-')[:-1] # 마지막 `.` 제거\n",
    "            review_content = rev.select('._1kMfD5ErZ6')[0].text.strip()\n",
    "            review_result = '부정' if review_value < 3 else '긍정' # 별점에 따른 긍정/부정 결과\n",
    "            time.sleep(0.001)\n",
    "            rvInsertDB(cursor, dbcon, review_content, review_date, review_value, review_result, pdno) #DB입력\n",
    "        page +=1\n",
    "    driver.close()\n"
   ]
  },
  {
   "cell_type": "markdown",
   "metadata": {},
   "source": [
    "## #03. 실행"
   ]
  },
  {
   "cell_type": "markdown",
   "metadata": {},
   "source": [
    "### [1] 상품명을 데이터베이스에 입력"
   ]
  },
  {
   "cell_type": "code",
   "execution_count": 60,
   "metadata": {},
   "outputs": [],
   "source": [
    "for title in Titles:\n",
    "    pdInsertDB(cursor, dbcon, title)"
   ]
  },
  {
   "cell_type": "markdown",
   "metadata": {},
   "source": [
    "### [2] 리뷰를 데이터베이스에 입력"
   ]
  },
  {
   "cell_type": "code",
   "execution_count": 62,
   "metadata": {},
   "outputs": [
    {
     "name": "stdout",
     "output_type": "stream",
     "text": [
      "오류가 발생했습니다 ORA-12899: \"HR\".\"REVIEW\".\"RVCONTENT\" 열에 대한 값이 너무 큼(실제: 1587, 최대값: 1200)\n"
     ]
    }
   ],
   "source": [
    "for i,v in enumerate(product):\n",
    "    title = Titles[i]\n",
    "    url = v[title]\n",
    "    # DB에서 상품코드 가져오기\n",
    "    sql = 'select pdno from product where pdname = :1' \n",
    "    cursor.execute(sql,[title])\n",
    "    pdno = cursor.fetchall()[0][0]\n",
    "    getReview(driver, dbcon, cursor, url, pdno)"
   ]
  },
  {
   "cell_type": "markdown",
   "metadata": {},
   "source": [
    "### [3] 데이터베이스를 조회하여 하나의 결과 집합으로 표현"
   ]
  },
  {
   "cell_type": "code",
   "execution_count": 51,
   "metadata": {},
   "outputs": [
    {
     "data": {
      "text/html": [
       "<div>\n",
       "<style scoped>\n",
       "    .dataframe tbody tr th:only-of-type {\n",
       "        vertical-align: middle;\n",
       "    }\n",
       "\n",
       "    .dataframe tbody tr th {\n",
       "        vertical-align: top;\n",
       "    }\n",
       "\n",
       "    .dataframe thead th {\n",
       "        text-align: right;\n",
       "    }\n",
       "</style>\n",
       "<table border=\"1\" class=\"dataframe\">\n",
       "  <thead>\n",
       "    <tr style=\"text-align: right;\">\n",
       "      <th></th>\n",
       "      <th>상품명</th>\n",
       "      <th>리뷰내용</th>\n",
       "      <th>리뷰날짜</th>\n",
       "      <th>별점</th>\n",
       "      <th>긍정/부정 분류 결과</th>\n",
       "      <th>긍정_개수</th>\n",
       "      <th>부정_개수</th>\n",
       "    </tr>\n",
       "  </thead>\n",
       "  <tbody>\n",
       "    <tr>\n",
       "      <th>0</th>\n",
       "      <td>[피코크 X 초마] 짬뽕 밀키트 672g</td>\n",
       "      <td></td>\n",
       "      <td></td>\n",
       "      <td></td>\n",
       "      <td></td>\n",
       "      <td>1313</td>\n",
       "      <td>23</td>\n",
       "    </tr>\n",
       "    <tr>\n",
       "      <th>1</th>\n",
       "      <td>피코크 의정부식 부대찌개 700g</td>\n",
       "      <td></td>\n",
       "      <td></td>\n",
       "      <td></td>\n",
       "      <td></td>\n",
       "      <td>3278</td>\n",
       "      <td>27</td>\n",
       "    </tr>\n",
       "    <tr>\n",
       "      <th>2</th>\n",
       "      <td>피코크 우리집 돼지고기김치찌개 500g</td>\n",
       "      <td></td>\n",
       "      <td></td>\n",
       "      <td></td>\n",
       "      <td></td>\n",
       "      <td>737</td>\n",
       "      <td>4</td>\n",
       "    </tr>\n",
       "    <tr>\n",
       "      <th>3</th>\n",
       "      <td>노브랜드 베트남쌀국수간편세트 202g</td>\n",
       "      <td></td>\n",
       "      <td></td>\n",
       "      <td></td>\n",
       "      <td></td>\n",
       "      <td>3048</td>\n",
       "      <td>9</td>\n",
       "    </tr>\n",
       "    <tr>\n",
       "      <th>4</th>\n",
       "      <td>[피코크] 냉이된장찌개 밀키트</td>\n",
       "      <td></td>\n",
       "      <td></td>\n",
       "      <td></td>\n",
       "      <td></td>\n",
       "      <td>217</td>\n",
       "      <td>1</td>\n",
       "    </tr>\n",
       "    <tr>\n",
       "      <th>...</th>\n",
       "      <td>...</td>\n",
       "      <td>...</td>\n",
       "      <td>...</td>\n",
       "      <td>...</td>\n",
       "      <td>...</td>\n",
       "      <td>...</td>\n",
       "      <td>...</td>\n",
       "    </tr>\n",
       "    <tr>\n",
       "      <th>8657</th>\n",
       "      <td>피코크 의정부식 부대찌개 700g</td>\n",
       "      <td>양은 2인분 정도 괜찮아요...</td>\n",
       "      <td>22-02-21</td>\n",
       "      <td>5</td>\n",
       "      <td>긍정</td>\n",
       "      <td></td>\n",
       "      <td></td>\n",
       "    </tr>\n",
       "    <tr>\n",
       "      <th>8658</th>\n",
       "      <td>피코크 의정부식 부대찌개 700g</td>\n",
       "      <td>배송도 빠르고 양도 넉넉해요</td>\n",
       "      <td>22-02-18</td>\n",
       "      <td>5</td>\n",
       "      <td>긍정</td>\n",
       "      <td></td>\n",
       "      <td></td>\n",
       "    </tr>\n",
       "    <tr>\n",
       "      <th>8659</th>\n",
       "      <td>피코크 의정부식 부대찌개 700g</td>\n",
       "      <td>다른 부대찌개도 많지만~ 울집은 의정부부대찌개를 젤 맛있어해요 ㅎㅎㅎ</td>\n",
       "      <td>22-01-27</td>\n",
       "      <td>5</td>\n",
       "      <td>긍정</td>\n",
       "      <td></td>\n",
       "      <td></td>\n",
       "    </tr>\n",
       "    <tr>\n",
       "      <th>8660</th>\n",
       "      <td>피코크 의정부식 부대찌개 700g</td>\n",
       "      <td>재구매내용물도 많고 맛있어요</td>\n",
       "      <td>22-02-21</td>\n",
       "      <td>5</td>\n",
       "      <td>긍정</td>\n",
       "      <td></td>\n",
       "      <td></td>\n",
       "    </tr>\n",
       "    <tr>\n",
       "      <th>8661</th>\n",
       "      <td>피코크 의정부식 부대찌개 700g</td>\n",
       "      <td>집에서 맛있게 먹었어요</td>\n",
       "      <td>22-02-21</td>\n",
       "      <td>5</td>\n",
       "      <td>긍정</td>\n",
       "      <td></td>\n",
       "      <td></td>\n",
       "    </tr>\n",
       "  </tbody>\n",
       "</table>\n",
       "<p>8662 rows × 7 columns</p>\n",
       "</div>"
      ],
      "text/plain": [
       "                         상품명                                    리뷰내용  \\\n",
       "0     [피코크 X 초마] 짬뽕 밀키트 672g                                           \n",
       "1         피코크 의정부식 부대찌개 700g                                           \n",
       "2      피코크 우리집 돼지고기김치찌개 500g                                           \n",
       "3       노브랜드 베트남쌀국수간편세트 202g                                           \n",
       "4           [피코크] 냉이된장찌개 밀키트                                           \n",
       "...                      ...                                     ...   \n",
       "8657      피코크 의정부식 부대찌개 700g                       양은 2인분 정도 괜찮아요...   \n",
       "8658      피코크 의정부식 부대찌개 700g                         배송도 빠르고 양도 넉넉해요   \n",
       "8659      피코크 의정부식 부대찌개 700g  다른 부대찌개도 많지만~ 울집은 의정부부대찌개를 젤 맛있어해요 ㅎㅎㅎ   \n",
       "8660      피코크 의정부식 부대찌개 700g                         재구매내용물도 많고 맛있어요   \n",
       "8661      피코크 의정부식 부대찌개 700g                            집에서 맛있게 먹었어요   \n",
       "\n",
       "          리뷰날짜 별점 긍정/부정 분류 결과 긍정_개수 부정_개수  \n",
       "0                              1313    23  \n",
       "1                              3278    27  \n",
       "2                               737     4  \n",
       "3                              3048     9  \n",
       "4                               217     1  \n",
       "...        ... ..         ...   ...   ...  \n",
       "8657  22-02-21  5          긍정              \n",
       "8658  22-02-18  5          긍정              \n",
       "8659  22-01-27  5          긍정              \n",
       "8660  22-02-21  5          긍정              \n",
       "8661  22-02-21  5          긍정              \n",
       "\n",
       "[8662 rows x 7 columns]"
      ]
     },
     "execution_count": 51,
     "metadata": {},
     "output_type": "execute_result"
    }
   ],
   "source": [
    "sql = '''\n",
    "SELECT\n",
    "  p.pdname as 상품명,\n",
    "  ' ',\n",
    "  ' ',\n",
    "  ' ',\n",
    "  ' ',\n",
    "  COUNT(CASE WHEN r.rvresult = '긍정' THEN r.pdno END) AS 긍정_개수,\n",
    "  COUNT(CASE WHEN r.rvresult = '부정' THEN r.pdno END) AS 부정_개수\n",
    "FROM\n",
    "  review r\n",
    "JOIN\n",
    "  product p ON r.pdno = p.pdno\n",
    "GROUP BY\n",
    "  p.pdname\n",
    "'''\n",
    "cursor.execute(sql)\n",
    "result = cursor.fetchall()\n",
    "sql = '''\n",
    "SELECT p.pdname as 상품명, r.rvcontent as 리뷰내용, r.rvdatetime as 리뷰날짜, r.rvvalue as 별점, r.rvresult as 분류_결과,' ',' '\n",
    "FROM review r\n",
    "JOIN product p\n",
    "ON p.pdno = r.pdno\n",
    "'''\n",
    "cursor.execute(sql)\n",
    "result += cursor.fetchall()\n",
    "\n",
    "df = DataFrame(result, columns=['상품명', '리뷰내용', '리뷰날짜','별점','긍정/부정 분류 결과','긍정_개수','부정_개수'])\n",
    "df\n"
   ]
  },
  {
   "cell_type": "markdown",
   "metadata": {},
   "source": [
    "## #04. 과제 수행시 겪은 시행착오 및 보완사항\n",
    "### [1] 시행착오\n",
    "#### (1) 비동기처리\n",
    "\n",
    "작업의 효율성을 위해 리뷰를 DB에 넣는 작업을 비동기처리로 작업하려 하였으나 DB에 일부 저장되지 않는 경우가 계속해서 발생하였음\n",
    "\n",
    "비동기처리를 하지 않았음에도 작업속도 차이가 유의미한 차이를 보이지 않아서 그냥 뺌\n",
    "\n",
    "\n",
    "\n"
   ]
  },
  {
   "cell_type": "markdown",
   "metadata": {},
   "source": [
    "### [2] 보완점\n",
    "#### (1)"
   ]
  }
 ],
 "metadata": {
  "kernelspec": {
   "display_name": "Python 3",
   "language": "python",
   "name": "python3"
  },
  "language_info": {
   "codemirror_mode": {
    "name": "ipython",
    "version": 3
   },
   "file_extension": ".py",
   "mimetype": "text/x-python",
   "name": "python",
   "nbconvert_exporter": "python",
   "pygments_lexer": "ipython3",
   "version": "3.12.0"
  }
 },
 "nbformat": 4,
 "nbformat_minor": 2
}
