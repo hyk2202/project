{
 "cells": [
  {
   "cell_type": "code",
   "execution_count": 1,
   "metadata": {},
   "outputs": [],
   "source": [
    "import pandas as pd\n",
    "import numpy as np\n",
    "import tensorflow as tf\n"
   ]
  },
  {
   "cell_type": "code",
   "execution_count": 2,
   "metadata": {},
   "outputs": [],
   "source": [
    "df = pd.read_excel(\"./최종_1.xlsx\", index_col = 'IDX')"
   ]
  },
  {
   "cell_type": "code",
   "execution_count": 3,
   "metadata": {},
   "outputs": [
    {
     "data": {
      "text/html": [
       "<div>\n",
       "<style scoped>\n",
       "    .dataframe tbody tr th:only-of-type {\n",
       "        vertical-align: middle;\n",
       "    }\n",
       "\n",
       "    .dataframe tbody tr th {\n",
       "        vertical-align: top;\n",
       "    }\n",
       "\n",
       "    .dataframe thead th {\n",
       "        text-align: right;\n",
       "    }\n",
       "</style>\n",
       "<table border=\"1\" class=\"dataframe\">\n",
       "  <thead>\n",
       "    <tr style=\"text-align: right;\">\n",
       "      <th></th>\n",
       "      <th>발생날짜</th>\n",
       "      <th>요일</th>\n",
       "      <th>공휴일여부</th>\n",
       "      <th>오전오후</th>\n",
       "      <th>시간대</th>\n",
       "      <th>시간</th>\n",
       "      <th>사고인지 시간</th>\n",
       "      <th>공공/민간 구분</th>\n",
       "      <th>날씨</th>\n",
       "      <th>기온</th>\n",
       "      <th>...</th>\n",
       "      <th>습도.1</th>\n",
       "      <th>증기압</th>\n",
       "      <th>이슬점온도</th>\n",
       "      <th>현지기압</th>\n",
       "      <th>해면기압</th>\n",
       "      <th>일조</th>\n",
       "      <th>전운량</th>\n",
       "      <th>중하층운량</th>\n",
       "      <th>시정</th>\n",
       "      <th>지면온도</th>\n",
       "    </tr>\n",
       "    <tr>\n",
       "      <th>IDX</th>\n",
       "      <th></th>\n",
       "      <th></th>\n",
       "      <th></th>\n",
       "      <th></th>\n",
       "      <th></th>\n",
       "      <th></th>\n",
       "      <th></th>\n",
       "      <th></th>\n",
       "      <th></th>\n",
       "      <th></th>\n",
       "      <th></th>\n",
       "      <th></th>\n",
       "      <th></th>\n",
       "      <th></th>\n",
       "      <th></th>\n",
       "      <th></th>\n",
       "      <th></th>\n",
       "      <th></th>\n",
       "      <th></th>\n",
       "      <th></th>\n",
       "      <th></th>\n",
       "    </tr>\n",
       "  </thead>\n",
       "  <tbody>\n",
       "    <tr>\n",
       "      <th>0</th>\n",
       "      <td>2024-04-12</td>\n",
       "      <td>금요일</td>\n",
       "      <td>평일</td>\n",
       "      <td>오전</td>\n",
       "      <td>10</td>\n",
       "      <td>10:30</td>\n",
       "      <td>정규작업</td>\n",
       "      <td>공공</td>\n",
       "      <td>맑음</td>\n",
       "      <td>18℃</td>\n",
       "      <td>...</td>\n",
       "      <td>58.0</td>\n",
       "      <td>11.0</td>\n",
       "      <td>8.4</td>\n",
       "      <td>1004.1</td>\n",
       "      <td>1020.7</td>\n",
       "      <td>1.0</td>\n",
       "      <td>0.0</td>\n",
       "      <td>0.0</td>\n",
       "      <td>2047.0</td>\n",
       "      <td>32.0</td>\n",
       "    </tr>\n",
       "    <tr>\n",
       "      <th>1</th>\n",
       "      <td>2024-04-13</td>\n",
       "      <td>토요일</td>\n",
       "      <td>휴일</td>\n",
       "      <td>오전</td>\n",
       "      <td>8</td>\n",
       "      <td>8:47</td>\n",
       "      <td>정규작업</td>\n",
       "      <td>공공</td>\n",
       "      <td>맑음</td>\n",
       "      <td>18℃</td>\n",
       "      <td>...</td>\n",
       "      <td>66.0</td>\n",
       "      <td>12.7</td>\n",
       "      <td>10.5</td>\n",
       "      <td>1009.3</td>\n",
       "      <td>1017.5</td>\n",
       "      <td>0.9</td>\n",
       "      <td>1.0</td>\n",
       "      <td>0.0</td>\n",
       "      <td>1944.0</td>\n",
       "      <td>15.9</td>\n",
       "    </tr>\n",
       "    <tr>\n",
       "      <th>2</th>\n",
       "      <td>2024-04-12</td>\n",
       "      <td>금요일</td>\n",
       "      <td>평일</td>\n",
       "      <td>오전</td>\n",
       "      <td>9</td>\n",
       "      <td>9:00</td>\n",
       "      <td>정규작업</td>\n",
       "      <td>민간</td>\n",
       "      <td>맑음</td>\n",
       "      <td>17℃</td>\n",
       "      <td>...</td>\n",
       "      <td>76.0</td>\n",
       "      <td>14.3</td>\n",
       "      <td>12.3</td>\n",
       "      <td>1018.4</td>\n",
       "      <td>1019.1</td>\n",
       "      <td>1.0</td>\n",
       "      <td>6.0</td>\n",
       "      <td>0.0</td>\n",
       "      <td>1105.0</td>\n",
       "      <td>20.3</td>\n",
       "    </tr>\n",
       "    <tr>\n",
       "      <th>3</th>\n",
       "      <td>2024-04-12</td>\n",
       "      <td>금요일</td>\n",
       "      <td>평일</td>\n",
       "      <td>오전</td>\n",
       "      <td>10</td>\n",
       "      <td>10:30</td>\n",
       "      <td>정규작업</td>\n",
       "      <td>공공</td>\n",
       "      <td>맑음</td>\n",
       "      <td>18℃</td>\n",
       "      <td>...</td>\n",
       "      <td>58.0</td>\n",
       "      <td>11.0</td>\n",
       "      <td>8.4</td>\n",
       "      <td>1004.1</td>\n",
       "      <td>1020.7</td>\n",
       "      <td>1.0</td>\n",
       "      <td>0.0</td>\n",
       "      <td>0.0</td>\n",
       "      <td>2047.0</td>\n",
       "      <td>32.0</td>\n",
       "    </tr>\n",
       "    <tr>\n",
       "      <th>4</th>\n",
       "      <td>2024-04-13</td>\n",
       "      <td>토요일</td>\n",
       "      <td>휴일</td>\n",
       "      <td>오전</td>\n",
       "      <td>11</td>\n",
       "      <td>11:30</td>\n",
       "      <td>정규작업</td>\n",
       "      <td>민간</td>\n",
       "      <td>맑음</td>\n",
       "      <td>19℃</td>\n",
       "      <td>...</td>\n",
       "      <td>61.0</td>\n",
       "      <td>15.8</td>\n",
       "      <td>13.8</td>\n",
       "      <td>1009.7</td>\n",
       "      <td>1017.8</td>\n",
       "      <td>1.0</td>\n",
       "      <td>0.0</td>\n",
       "      <td>0.0</td>\n",
       "      <td>2050.0</td>\n",
       "      <td>37.0</td>\n",
       "    </tr>\n",
       "  </tbody>\n",
       "</table>\n",
       "<p>5 rows × 59 columns</p>\n",
       "</div>"
      ],
      "text/plain": [
       "          발생날짜   요일 공휴일여부 오전오후  시간대     시간 사고인지 시간 공공/민간 구분  날씨   기온  ...  \\\n",
       "IDX                                                                   ...   \n",
       "0   2024-04-12  금요일    평일   오전   10  10:30   정규작업        공공  맑음  18℃  ...   \n",
       "1   2024-04-13  토요일    휴일   오전    8   8:47   정규작업        공공  맑음  18℃  ...   \n",
       "2   2024-04-12  금요일    평일   오전    9   9:00   정규작업        민간  맑음  17℃  ...   \n",
       "3   2024-04-12  금요일    평일   오전   10  10:30   정규작업        공공  맑음  18℃  ...   \n",
       "4   2024-04-13  토요일    휴일   오전   11  11:30   정규작업        민간  맑음  19℃  ...   \n",
       "\n",
       "     습도.1   증기압 이슬점온도    현지기압    해면기압   일조  전운량 중하층운량      시정  지면온도  \n",
       "IDX                                                                  \n",
       "0    58.0  11.0   8.4  1004.1  1020.7  1.0  0.0   0.0  2047.0  32.0  \n",
       "1    66.0  12.7  10.5  1009.3  1017.5  0.9  1.0   0.0  1944.0  15.9  \n",
       "2    76.0  14.3  12.3  1018.4  1019.1  1.0  6.0   0.0  1105.0  20.3  \n",
       "3    58.0  11.0   8.4  1004.1  1020.7  1.0  0.0   0.0  2047.0  32.0  \n",
       "4    61.0  15.8  13.8  1009.7  1017.8  1.0  0.0   0.0  2050.0  37.0  \n",
       "\n",
       "[5 rows x 59 columns]"
      ]
     },
     "execution_count": 3,
     "metadata": {},
     "output_type": "execute_result"
    }
   ],
   "source": [
    "df.head()"
   ]
  },
  {
   "cell_type": "code",
   "execution_count": 4,
   "metadata": {},
   "outputs": [
    {
     "data": {
      "text/plain": [
       "Index(['발생날짜', '요일', '공휴일여부', '오전오후', '시간대', '시간', '사고인지 시간', '공공/민간 구분', '날씨',\n",
       "       '기온', '습도', '인적사고', '보호(방호)조치여부 - 안전방호', '보호(방호)조치여부 - 개인방호', '공종_대분류',\n",
       "       '공종_중분류', '사고객체_대분류', '사고객체_중분류', '작업프로세스', '장소_대분류', '장소_중분류',\n",
       "       '부위_대분류', '부위_중분류', '사고원인_주원인', '사상자수', '사고신고사유_부상', '사고신고사유_사망',\n",
       "       '사고신고사유_물적', '시', '전체공사비', '전체공사비_분류', '해당공종_공사비', '구체적 사고원인',\n",
       "       '사고발생후 조치사항', '공사기간_시작일', '공사기간_종료일', '공종_시작일', '공종_종료일', '재발방지대책',\n",
       "       '공정률', '안전관리계획', '설계안전성검토', '작업자수', '지점 번호', '관측소', '기온.1', '강수량', '풍속',\n",
       "       '풍향', '습도.1', '증기압', '이슬점온도', '현지기압', '해면기압', '일조', '전운량', '중하층운량',\n",
       "       '시정', '지면온도'],\n",
       "      dtype='object')"
      ]
     },
     "execution_count": 4,
     "metadata": {},
     "output_type": "execute_result"
    }
   ],
   "source": [
    "df.columns"
   ]
  },
  {
   "cell_type": "code",
   "execution_count": 5,
   "metadata": {},
   "outputs": [],
   "source": [
    "df2 = df.copy()"
   ]
  },
  {
   "cell_type": "code",
   "execution_count": 6,
   "metadata": {},
   "outputs": [
    {
     "name": "stdout",
     "output_type": "stream",
     "text": [
      "<class 'pandas.core.frame.DataFrame'>\n",
      "Index: 23722 entries, 0 to 23721\n",
      "Data columns (total 59 columns):\n",
      " #   Column             Non-Null Count  Dtype         \n",
      "---  ------             --------------  -----         \n",
      " 0   발생날짜               23722 non-null  datetime64[ns]\n",
      " 1   요일                 23722 non-null  object        \n",
      " 2   공휴일여부              23722 non-null  object        \n",
      " 3   오전오후               23722 non-null  object        \n",
      " 4   시간대                23722 non-null  int64         \n",
      " 5   시간                 23722 non-null  object        \n",
      " 6   사고인지 시간            20555 non-null  object        \n",
      " 7   공공/민간 구분           23707 non-null  object        \n",
      " 8   날씨                 23722 non-null  object        \n",
      " 9   기온                 23722 non-null  object        \n",
      " 10  습도                 23722 non-null  float64       \n",
      " 11  인적사고               23690 non-null  object        \n",
      " 12  보호(방호)조치여부 - 안전방호  18311 non-null  object        \n",
      " 13  보호(방호)조치여부 - 개인방호  18312 non-null  object        \n",
      " 14  공종_대분류             23722 non-null  object        \n",
      " 15  공종_중분류             23722 non-null  object        \n",
      " 16  사고객체_대분류           23722 non-null  object        \n",
      " 17  사고객체_중분류           23722 non-null  object        \n",
      " 18  작업프로세스             23722 non-null  object        \n",
      " 19  장소_대분류             23722 non-null  object        \n",
      " 20  장소_중분류             23722 non-null  object        \n",
      " 21  부위_대분류             23722 non-null  object        \n",
      " 22  부위_중분류             23722 non-null  object        \n",
      " 23  사고원인_주원인           23722 non-null  object        \n",
      " 24  사상자수               23722 non-null  int64         \n",
      " 25  사고신고사유_부상          23722 non-null  object        \n",
      " 26  사고신고사유_사망          23722 non-null  object        \n",
      " 27  사고신고사유_물적          23722 non-null  object        \n",
      " 28  시                  23722 non-null  object        \n",
      " 29  전체공사비              23722 non-null  object        \n",
      " 30  전체공사비_분류           23722 non-null  object        \n",
      " 31  해당공종_공사비           23721 non-null  object        \n",
      " 32  구체적 사고원인           23720 non-null  object        \n",
      " 33  사고발생후 조치사항         23717 non-null  object        \n",
      " 34  공사기간_시작일           23722 non-null  object        \n",
      " 35  공사기간_종료일           23722 non-null  object        \n",
      " 36  공종_시작일             23722 non-null  object        \n",
      " 37  공종_종료일             23722 non-null  object        \n",
      " 38  재발방지대책             23713 non-null  object        \n",
      " 39  공정률                23721 non-null  object        \n",
      " 40  안전관리계획             23721 non-null  object        \n",
      " 41  설계안전성검토            23721 non-null  object        \n",
      " 42  작업자수               23722 non-null  object        \n",
      " 43  지점 번호              23722 non-null  int64         \n",
      " 44  관측소                23722 non-null  object        \n",
      " 45  기온.1               23709 non-null  float64       \n",
      " 46  강수량                1624 non-null   float64       \n",
      " 47  풍속                 23696 non-null  float64       \n",
      " 48  풍향                 23695 non-null  float64       \n",
      " 49  습도.1               23707 non-null  float64       \n",
      " 50  증기압                23707 non-null  float64       \n",
      " 51  이슬점온도              23707 non-null  float64       \n",
      " 52  현지기압               23707 non-null  float64       \n",
      " 53  해면기압               23707 non-null  float64       \n",
      " 54  일조                 22932 non-null  float64       \n",
      " 55  전운량                23456 non-null  float64       \n",
      " 56  중하층운량              23051 non-null  float64       \n",
      " 57  시정                 23630 non-null  float64       \n",
      " 58  지면온도               23679 non-null  float64       \n",
      "dtypes: datetime64[ns](1), float64(15), int64(3), object(40)\n",
      "memory usage: 10.9+ MB\n"
     ]
    }
   ],
   "source": [
    "df2.info()"
   ]
  },
  {
   "cell_type": "code",
   "execution_count": 7,
   "metadata": {},
   "outputs": [
    {
     "data": {
      "text/html": [
       "<div>\n",
       "<style scoped>\n",
       "    .dataframe tbody tr th:only-of-type {\n",
       "        vertical-align: middle;\n",
       "    }\n",
       "\n",
       "    .dataframe tbody tr th {\n",
       "        vertical-align: top;\n",
       "    }\n",
       "\n",
       "    .dataframe thead th {\n",
       "        text-align: right;\n",
       "    }\n",
       "</style>\n",
       "<table border=\"1\" class=\"dataframe\">\n",
       "  <thead>\n",
       "    <tr style=\"text-align: right;\">\n",
       "      <th></th>\n",
       "      <th>count</th>\n",
       "      <th>unique</th>\n",
       "      <th>top</th>\n",
       "      <th>freq</th>\n",
       "    </tr>\n",
       "  </thead>\n",
       "  <tbody>\n",
       "    <tr>\n",
       "      <th>요일</th>\n",
       "      <td>23722</td>\n",
       "      <td>7</td>\n",
       "      <td>월요일</td>\n",
       "      <td>4076</td>\n",
       "    </tr>\n",
       "    <tr>\n",
       "      <th>공휴일여부</th>\n",
       "      <td>23722</td>\n",
       "      <td>2</td>\n",
       "      <td>평일</td>\n",
       "      <td>19433</td>\n",
       "    </tr>\n",
       "    <tr>\n",
       "      <th>오전오후</th>\n",
       "      <td>23722</td>\n",
       "      <td>2</td>\n",
       "      <td>오전</td>\n",
       "      <td>12635</td>\n",
       "    </tr>\n",
       "    <tr>\n",
       "      <th>시간</th>\n",
       "      <td>23722</td>\n",
       "      <td>794</td>\n",
       "      <td>10:00</td>\n",
       "      <td>1285</td>\n",
       "    </tr>\n",
       "    <tr>\n",
       "      <th>사고인지 시간</th>\n",
       "      <td>20555</td>\n",
       "      <td>8</td>\n",
       "      <td>정규작업</td>\n",
       "      <td>18032</td>\n",
       "    </tr>\n",
       "    <tr>\n",
       "      <th>공공/민간 구분</th>\n",
       "      <td>23707</td>\n",
       "      <td>2</td>\n",
       "      <td>민간</td>\n",
       "      <td>13612</td>\n",
       "    </tr>\n",
       "    <tr>\n",
       "      <th>날씨</th>\n",
       "      <td>23722</td>\n",
       "      <td>6</td>\n",
       "      <td>맑음</td>\n",
       "      <td>17995</td>\n",
       "    </tr>\n",
       "    <tr>\n",
       "      <th>기온</th>\n",
       "      <td>23722</td>\n",
       "      <td>591</td>\n",
       "      <td>20℃</td>\n",
       "      <td>1382</td>\n",
       "    </tr>\n",
       "    <tr>\n",
       "      <th>인적사고</th>\n",
       "      <td>23690</td>\n",
       "      <td>16</td>\n",
       "      <td>넘어짐</td>\n",
       "      <td>5814</td>\n",
       "    </tr>\n",
       "    <tr>\n",
       "      <th>보호(방호)조치여부 - 안전방호</th>\n",
       "      <td>18311</td>\n",
       "      <td>3</td>\n",
       "      <td>조치</td>\n",
       "      <td>11586</td>\n",
       "    </tr>\n",
       "    <tr>\n",
       "      <th>보호(방호)조치여부 - 개인방호</th>\n",
       "      <td>18312</td>\n",
       "      <td>3</td>\n",
       "      <td>조치</td>\n",
       "      <td>14470</td>\n",
       "    </tr>\n",
       "    <tr>\n",
       "      <th>공종_대분류</th>\n",
       "      <td>23722</td>\n",
       "      <td>7</td>\n",
       "      <td>건축</td>\n",
       "      <td>14393</td>\n",
       "    </tr>\n",
       "    <tr>\n",
       "      <th>공종_중분류</th>\n",
       "      <td>23722</td>\n",
       "      <td>39</td>\n",
       "      <td>철근콘크리트공사</td>\n",
       "      <td>7106</td>\n",
       "    </tr>\n",
       "    <tr>\n",
       "      <th>사고객체_대분류</th>\n",
       "      <td>23722</td>\n",
       "      <td>9</td>\n",
       "      <td>가시설</td>\n",
       "      <td>6678</td>\n",
       "    </tr>\n",
       "    <tr>\n",
       "      <th>사고객체_중분류</th>\n",
       "      <td>23722</td>\n",
       "      <td>54</td>\n",
       "      <td>기타</td>\n",
       "      <td>5528</td>\n",
       "    </tr>\n",
       "    <tr>\n",
       "      <th>작업프로세스</th>\n",
       "      <td>23722</td>\n",
       "      <td>34</td>\n",
       "      <td>설치작업</td>\n",
       "      <td>4148</td>\n",
       "    </tr>\n",
       "    <tr>\n",
       "      <th>장소_대분류</th>\n",
       "      <td>23722</td>\n",
       "      <td>37</td>\n",
       "      <td>공동주택</td>\n",
       "      <td>7085</td>\n",
       "    </tr>\n",
       "    <tr>\n",
       "      <th>장소_중분류</th>\n",
       "      <td>23722</td>\n",
       "      <td>6</td>\n",
       "      <td>내부</td>\n",
       "      <td>10627</td>\n",
       "    </tr>\n",
       "    <tr>\n",
       "      <th>부위_대분류</th>\n",
       "      <td>23722</td>\n",
       "      <td>54</td>\n",
       "      <td>기타</td>\n",
       "      <td>5528</td>\n",
       "    </tr>\n",
       "    <tr>\n",
       "      <th>부위_중분류</th>\n",
       "      <td>23722</td>\n",
       "      <td>10</td>\n",
       "      <td>바닥</td>\n",
       "      <td>7421</td>\n",
       "    </tr>\n",
       "    <tr>\n",
       "      <th>사고원인_주원인</th>\n",
       "      <td>23722</td>\n",
       "      <td>29</td>\n",
       "      <td>작업자 부주의</td>\n",
       "      <td>13088</td>\n",
       "    </tr>\n",
       "    <tr>\n",
       "      <th>사고신고사유_부상</th>\n",
       "      <td>23722</td>\n",
       "      <td>2</td>\n",
       "      <td>3일이상 휴업이 필요한 부상</td>\n",
       "      <td>22214</td>\n",
       "    </tr>\n",
       "    <tr>\n",
       "      <th>사고신고사유_사망</th>\n",
       "      <td>23722</td>\n",
       "      <td>2</td>\n",
       "      <td>사망 내용 없음</td>\n",
       "      <td>22631</td>\n",
       "    </tr>\n",
       "    <tr>\n",
       "      <th>사고신고사유_물적</th>\n",
       "      <td>23722</td>\n",
       "      <td>2</td>\n",
       "      <td>물적피해 내용 없음</td>\n",
       "      <td>23459</td>\n",
       "    </tr>\n",
       "    <tr>\n",
       "      <th>시</th>\n",
       "      <td>23722</td>\n",
       "      <td>18</td>\n",
       "      <td>경기도</td>\n",
       "      <td>6362</td>\n",
       "    </tr>\n",
       "    <tr>\n",
       "      <th>전체공사비</th>\n",
       "      <td>23722</td>\n",
       "      <td>18</td>\n",
       "      <td>1,000억원 이상</td>\n",
       "      <td>8002</td>\n",
       "    </tr>\n",
       "    <tr>\n",
       "      <th>전체공사비_분류</th>\n",
       "      <td>23722</td>\n",
       "      <td>5</td>\n",
       "      <td>50억원 이상</td>\n",
       "      <td>15759</td>\n",
       "    </tr>\n",
       "    <tr>\n",
       "      <th>해당공종_공사비</th>\n",
       "      <td>23721</td>\n",
       "      <td>18</td>\n",
       "      <td>20억~50억원미만</td>\n",
       "      <td>3048</td>\n",
       "    </tr>\n",
       "    <tr>\n",
       "      <th>구체적 사고원인</th>\n",
       "      <td>23720</td>\n",
       "      <td>22421</td>\n",
       "      <td>작업자 부주의</td>\n",
       "      <td>289</td>\n",
       "    </tr>\n",
       "    <tr>\n",
       "      <th>사고발생후 조치사항</th>\n",
       "      <td>23717</td>\n",
       "      <td>20473</td>\n",
       "      <td>병원이송</td>\n",
       "      <td>346</td>\n",
       "    </tr>\n",
       "    <tr>\n",
       "      <th>공사기간_시작일</th>\n",
       "      <td>23722</td>\n",
       "      <td>2241</td>\n",
       "      <td>2018-03-16</td>\n",
       "      <td>161</td>\n",
       "    </tr>\n",
       "    <tr>\n",
       "      <th>공사기간_종료일</th>\n",
       "      <td>23722</td>\n",
       "      <td>2295</td>\n",
       "      <td>2022-12-31</td>\n",
       "      <td>407</td>\n",
       "    </tr>\n",
       "    <tr>\n",
       "      <th>공종_시작일</th>\n",
       "      <td>23722</td>\n",
       "      <td>2136</td>\n",
       "      <td>2021-10-01</td>\n",
       "      <td>232</td>\n",
       "    </tr>\n",
       "    <tr>\n",
       "      <th>공종_종료일</th>\n",
       "      <td>23722</td>\n",
       "      <td>2029</td>\n",
       "      <td>2023-12-31</td>\n",
       "      <td>495</td>\n",
       "    </tr>\n",
       "    <tr>\n",
       "      <th>재발방지대책</th>\n",
       "      <td>23713</td>\n",
       "      <td>20848</td>\n",
       "      <td>안전교육 실시</td>\n",
       "      <td>229</td>\n",
       "    </tr>\n",
       "    <tr>\n",
       "      <th>공정률</th>\n",
       "      <td>23721</td>\n",
       "      <td>10</td>\n",
       "      <td>90% 이상</td>\n",
       "      <td>3507</td>\n",
       "    </tr>\n",
       "    <tr>\n",
       "      <th>안전관리계획</th>\n",
       "      <td>23721</td>\n",
       "      <td>3</td>\n",
       "      <td>대상현장(1/2종)</td>\n",
       "      <td>12908</td>\n",
       "    </tr>\n",
       "    <tr>\n",
       "      <th>설계안전성검토</th>\n",
       "      <td>23721</td>\n",
       "      <td>2</td>\n",
       "      <td>비대상</td>\n",
       "      <td>15350</td>\n",
       "    </tr>\n",
       "    <tr>\n",
       "      <th>작업자수</th>\n",
       "      <td>23722</td>\n",
       "      <td>6</td>\n",
       "      <td>19인 이하</td>\n",
       "      <td>8002</td>\n",
       "    </tr>\n",
       "    <tr>\n",
       "      <th>관측소</th>\n",
       "      <td>23722</td>\n",
       "      <td>87</td>\n",
       "      <td>서울</td>\n",
       "      <td>4011</td>\n",
       "    </tr>\n",
       "  </tbody>\n",
       "</table>\n",
       "</div>"
      ],
      "text/plain": [
       "                   count unique              top   freq\n",
       "요일                 23722      7              월요일   4076\n",
       "공휴일여부              23722      2               평일  19433\n",
       "오전오후               23722      2               오전  12635\n",
       "시간                 23722    794            10:00   1285\n",
       "사고인지 시간            20555      8            정규작업   18032\n",
       "공공/민간 구분           23707      2               민간  13612\n",
       "날씨                 23722      6               맑음  17995\n",
       "기온                 23722    591              20℃   1382\n",
       "인적사고               23690     16              넘어짐   5814\n",
       "보호(방호)조치여부 - 안전방호  18311      3               조치  11586\n",
       "보호(방호)조치여부 - 개인방호  18312      3               조치  14470\n",
       "공종_대분류             23722      7               건축  14393\n",
       "공종_중분류             23722     39         철근콘크리트공사   7106\n",
       "사고객체_대분류           23722      9              가시설   6678\n",
       "사고객체_중분류           23722     54               기타   5528\n",
       "작업프로세스             23722     34             설치작업   4148\n",
       "장소_대분류             23722     37             공동주택   7085\n",
       "장소_중분류             23722      6               내부  10627\n",
       "부위_대분류             23722     54               기타   5528\n",
       "부위_중분류             23722     10               바닥   7421\n",
       "사고원인_주원인           23722     29          작업자 부주의  13088\n",
       "사고신고사유_부상          23722      2  3일이상 휴업이 필요한 부상  22214\n",
       "사고신고사유_사망          23722      2         사망 내용 없음  22631\n",
       "사고신고사유_물적          23722      2       물적피해 내용 없음  23459\n",
       "시                  23722     18              경기도   6362\n",
       "전체공사비              23722     18       1,000억원 이상   8002\n",
       "전체공사비_분류           23722      5          50억원 이상  15759\n",
       "해당공종_공사비           23721     18       20억~50억원미만   3048\n",
       "구체적 사고원인           23720  22421          작업자 부주의    289\n",
       "사고발생후 조치사항         23717  20473             병원이송    346\n",
       "공사기간_시작일           23722   2241       2018-03-16    161\n",
       "공사기간_종료일           23722   2295       2022-12-31    407\n",
       "공종_시작일             23722   2136       2021-10-01    232\n",
       "공종_종료일             23722   2029       2023-12-31    495\n",
       "재발방지대책             23713  20848          안전교육 실시    229\n",
       "공정률                23721     10           90% 이상   3507\n",
       "안전관리계획             23721      3       대상현장(1/2종)  12908\n",
       "설계안전성검토            23721      2              비대상  15350\n",
       "작업자수               23722      6           19인 이하   8002\n",
       "관측소                23722     87               서울   4011"
      ]
     },
     "execution_count": 7,
     "metadata": {},
     "output_type": "execute_result"
    }
   ],
   "source": [
    "df2.describe(include = 'O').T"
   ]
  },
  {
   "cell_type": "code",
   "execution_count": 8,
   "metadata": {},
   "outputs": [],
   "source": [
    "df2['인적사고'] = df2['인적사고'].apply(lambda x : '분류불능' if x == '기타' else x)\n",
    "df2 = df2[df2['인적사고'] != '없음']"
   ]
  },
  {
   "cell_type": "code",
   "execution_count": 9,
   "metadata": {},
   "outputs": [],
   "source": [
    "def daynight(x):\n",
    "    if x < 6:\n",
    "        return '야간'\n",
    "    elif x <= 18:\n",
    "        return '주간'\n",
    "    else:\n",
    "        return '야간'"
   ]
  },
  {
   "cell_type": "code",
   "execution_count": 10,
   "metadata": {},
   "outputs": [],
   "source": [
    "df2['분기'] = df2['발생날짜'].dt.quarter.astype('category')\n",
    "df2['월'] = df2['발생날짜'].dt.month.astype('category')\n",
    "df2['주야간'] = df2['시간대'].apply(daynight)\n",
    "df2['시간대'] = df2['시간대'].astype('category')"
   ]
  },
  {
   "cell_type": "code",
   "execution_count": 11,
   "metadata": {},
   "outputs": [],
   "source": [
    "drop_cols = ['기온', '습도', '구체적 사고원인', '사고발생후 조치사항', '재발방지대책', '공사기간_시작일', '공사기간_종료일', '공종_시작일',\n",
    "             '공종_종료일', '관측소', '시간', '발생날짜', '지점 번호', '전체공사비_분류']"
   ]
  },
  {
   "cell_type": "code",
   "execution_count": 12,
   "metadata": {},
   "outputs": [
    {
     "data": {
      "text/plain": [
       "강수량                  21917\n",
       "보호(방호)조치여부 - 안전방호     5215\n",
       "보호(방호)조치여부 - 개인방호     5214\n",
       "사고인지 시간               3162\n",
       "일조                     765\n",
       "                     ...  \n",
       "사고신고사유_물적                0\n",
       "시                        0\n",
       "전체공사비                    0\n",
       "전체공사비_분류                 0\n",
       "주야간                      0\n",
       "Length: 62, dtype: int64"
      ]
     },
     "execution_count": 12,
     "metadata": {},
     "output_type": "execute_result"
    }
   ],
   "source": [
    "df2.isnull().sum().sort_values(ascending=False)"
   ]
  },
  {
   "cell_type": "code",
   "execution_count": 13,
   "metadata": {},
   "outputs": [
    {
     "data": {
      "text/plain": [
       "보호(방호)조치여부 - 안전방호\n",
       "조치      11586\n",
       "해당없음     5567\n",
       "비조치      1158\n",
       "Name: count, dtype: int64"
      ]
     },
     "execution_count": 13,
     "metadata": {},
     "output_type": "execute_result"
    }
   ],
   "source": [
    "df2['보호(방호)조치여부 - 안전방호'].value_counts()"
   ]
  },
  {
   "cell_type": "code",
   "execution_count": 14,
   "metadata": {},
   "outputs": [
    {
     "data": {
      "text/plain": [
       "보호(방호)조치여부 - 개인방호\n",
       "조치      14470\n",
       "해당없음     2985\n",
       "비조치       857\n",
       "Name: count, dtype: int64"
      ]
     },
     "execution_count": 14,
     "metadata": {},
     "output_type": "execute_result"
    }
   ],
   "source": [
    "df2['보호(방호)조치여부 - 개인방호'].value_counts()"
   ]
  },
  {
   "cell_type": "code",
   "execution_count": 15,
   "metadata": {},
   "outputs": [],
   "source": [
    "df2['보호(방호)조치여부 - 안전방호'] = df2['보호(방호)조치여부 - 안전방호'].fillna('비조치')\n",
    "df2['보호(방호)조치여부 - 개인방호'] = df2['보호(방호)조치여부 - 개인방호'].fillna('비조치')"
   ]
  },
  {
   "cell_type": "code",
   "execution_count": 16,
   "metadata": {},
   "outputs": [],
   "source": [
    "df2['사고인지 시간'] = df2['사고인지 시간'].fillna('분류불능')\n",
    "df2['강수량'] = df2['강수량'].fillna(0)"
   ]
  },
  {
   "cell_type": "code",
   "execution_count": 17,
   "metadata": {},
   "outputs": [],
   "source": [
    "df2['총_공사기간'] = (pd.to_datetime(df2['공사기간_종료일']) - pd.to_datetime(df2['공사기간_시작일'])).dt.days\n",
    "df2['공종공사기간'] = (pd.to_datetime(df2['공종_종료일']) - pd.to_datetime(df2['공종_시작일'])).dt.days"
   ]
  },
  {
   "cell_type": "code",
   "execution_count": 18,
   "metadata": {},
   "outputs": [],
   "source": [
    "def mapping(S : pd.Series, tol = 50, etc_name = '기타'):\n",
    "    counts = S.value_counts()\n",
    "    counts = counts[counts < tol]\n",
    "    tmp_dict = {}\n",
    "    for i in counts.index:\n",
    "        tmp_dict[i] = etc_name\n",
    "    \n",
    "    S2 = S.apply(lambda x : tmp_dict[x] if x in tmp_dict.keys() else x)\n",
    "    return S2"
   ]
  },
  {
   "cell_type": "code",
   "execution_count": 19,
   "metadata": {},
   "outputs": [
    {
     "data": {
      "text/plain": [
       "공종_대분류\n",
       "건축      14286\n",
       "토목       5287\n",
       "기타       2940\n",
       "기계설비     1013\n",
       "Name: count, dtype: int64"
      ]
     },
     "execution_count": 19,
     "metadata": {},
     "output_type": "execute_result"
    }
   ],
   "source": [
    "df2['공종_대분류'] = mapping(df2['공종_대분류'], tol = 1000)\n",
    "df2['공종_대분류'].value_counts()"
   ]
  },
  {
   "cell_type": "code",
   "execution_count": 20,
   "metadata": {},
   "outputs": [
    {
     "data": {
      "text/plain": [
       "공종_중분류\n",
       "철근콘크리트공사     7066\n",
       "기타           3176\n",
       "가설공사         2542\n",
       "해체 및 철거공사    1044\n",
       "기계설비공사        952\n",
       "토공사           917\n",
       "철골공사          778\n",
       "건축물 부대공사      643\n",
       "수장공사          598\n",
       "관공사           564\n",
       "건축 토공사        553\n",
       "미장공사          536\n",
       "전기설비공사        518\n",
       "타일 및 돌공사      458\n",
       "도로 및 포장공사     397\n",
       "교량공사          344\n",
       "조적공사          333\n",
       "도장공사          301\n",
       "터널공사          290\n",
       "산업설비공사        287\n",
       "목공사           277\n",
       "금속공사          270\n",
       "창호 및 유리공사     245\n",
       "하천공사          227\n",
       "방수공사          210\n",
       "Name: count, dtype: int64"
      ]
     },
     "execution_count": 20,
     "metadata": {},
     "output_type": "execute_result"
    }
   ],
   "source": [
    "df2['공종_중분류'] = mapping(df2['공종_중분류'], tol = 200)\n",
    "df2['공종_중분류'].value_counts()"
   ]
  },
  {
   "cell_type": "code",
   "execution_count": 21,
   "metadata": {},
   "outputs": [
    {
     "data": {
      "text/plain": [
       "사고객체_대분류\n",
       "가시설        6643\n",
       "기타         5152\n",
       "건설자재       4568\n",
       "건설공구       2468\n",
       "건설기계       1846\n",
       "부재          978\n",
       "시설물         968\n",
       "토사 및 암반     540\n",
       "질병          363\n",
       "Name: count, dtype: int64"
      ]
     },
     "execution_count": 21,
     "metadata": {},
     "output_type": "execute_result"
    }
   ],
   "source": [
    "df2['사고객체_대분류'].value_counts()"
   ]
  },
  {
   "cell_type": "code",
   "execution_count": 22,
   "metadata": {},
   "outputs": [
    {
     "data": {
      "text/plain": [
       "사고객체_중분류\n",
       "기타                6947\n",
       "자재                2783\n",
       "공구류               2008\n",
       "거푸집               1844\n",
       "비계                1366\n",
       "철근                1024\n",
       "건물                 799\n",
       "작업발판               758\n",
       "기타 가시설             552\n",
       "흙막이가시설             449\n",
       "굴착기                446\n",
       "사다리                445\n",
       "시스템동바리             432\n",
       "질병                 363\n",
       "철골부재               319\n",
       "강관동바리              251\n",
       "안전시설물              223\n",
       "기중기(이동식크레인 등)      216\n",
       "슬래브                202\n",
       "배관                 200\n",
       "고소작업차(고소작업대 등)     195\n",
       "차량                 182\n",
       "가설계단               181\n",
       "덤프트럭               161\n",
       "데크플레이트             160\n",
       "지반                 149\n",
       "타워크레인              139\n",
       "항타 및 항발기           136\n",
       "굴착사면               133\n",
       "파이프서포트             133\n",
       "지게차                113\n",
       "창호                 111\n",
       "건설폐기물              106\n",
       "Name: count, dtype: int64"
      ]
     },
     "execution_count": 22,
     "metadata": {},
     "output_type": "execute_result"
    }
   ],
   "source": [
    "df2['사고객체_중분류'] = mapping(df2['사고객체_중분류'], tol = 100)\n",
    "df2['사고객체_중분류'].value_counts()"
   ]
  },
  {
   "cell_type": "code",
   "execution_count": 23,
   "metadata": {},
   "outputs": [
    {
     "data": {
      "text/plain": [
       "작업프로세스\n",
       "설치작업         4125\n",
       "해체작업         2525\n",
       "이동           2521\n",
       "기타           2192\n",
       "운반작업         2071\n",
       "정리작업         1550\n",
       "조립작업         1131\n",
       "형틀 및 목공       933\n",
       "타설작업          794\n",
       "마감작업          785\n",
       "절단작업          687\n",
       "준비작업          595\n",
       "설비작업          364\n",
       "청소작업          303\n",
       "도장작업          286\n",
       "굴착작업          273\n",
       "연결작업          250\n",
       "상차 및 하역작업     247\n",
       "용접작업          246\n",
       "인양작업          235\n",
       "양중작업          169\n",
       "확인 및 점검작업     168\n",
       "쌓기작업          160\n",
       "매설작업          156\n",
       "보수 및 교체작업     155\n",
       "천공작업          149\n",
       "전기작업          130\n",
       "부설 및 다짐작업     113\n",
       "정비작업          112\n",
       "반출작업          101\n",
       "Name: count, dtype: int64"
      ]
     },
     "execution_count": 23,
     "metadata": {},
     "output_type": "execute_result"
    }
   ],
   "source": [
    "df2['작업프로세스'] = mapping(df2['작업프로세스'], tol = 100)\n",
    "df2['작업프로세스'].value_counts()"
   ]
  },
  {
   "cell_type": "code",
   "execution_count": 24,
   "metadata": {},
   "outputs": [
    {
     "data": {
      "text/plain": [
       "장소_대분류\n",
       "공동주택       7027\n",
       "기타         4676\n",
       "공장         1920\n",
       "업무시설       1776\n",
       "교육연구시설     1492\n",
       "근린생활시설     1424\n",
       "도로          917\n",
       "창고시설        723\n",
       "하수도         563\n",
       "부지조성        484\n",
       "문화및집회시설     453\n",
       "상수도         382\n",
       "숙박시설        347\n",
       "도로교량        340\n",
       "단독주택        300\n",
       "운동시설        243\n",
       "의료시설        231\n",
       "교정및군사시설     228\n",
       "Name: count, dtype: int64"
      ]
     },
     "execution_count": 24,
     "metadata": {},
     "output_type": "execute_result"
    }
   ],
   "source": [
    "df2['장소_대분류'] = mapping(df2['장소_대분류'], tol = 200)\n",
    "df2['장소_대분류'].value_counts()"
   ]
  },
  {
   "cell_type": "code",
   "execution_count": 25,
   "metadata": {},
   "outputs": [
    {
     "data": {
      "text/plain": [
       "부위_대분류\n",
       "기타               8846\n",
       "자재               2783\n",
       "공구류              2008\n",
       "거푸집              1844\n",
       "비계               1366\n",
       "철근               1024\n",
       "건물                799\n",
       "작업발판              758\n",
       "기타 가시설            552\n",
       "흙막이가시설            449\n",
       "굴착기               446\n",
       "사다리               445\n",
       "시스템동바리            432\n",
       "질병                363\n",
       "철골부재              319\n",
       "강관동바리             251\n",
       "안전시설물             223\n",
       "기중기(이동식크레인 등)     216\n",
       "슬래브               202\n",
       "배관                200\n",
       "Name: count, dtype: int64"
      ]
     },
     "execution_count": 25,
     "metadata": {},
     "output_type": "execute_result"
    }
   ],
   "source": [
    "df2['부위_대분류'] = mapping(df2['부위_대분류'], tol = 200)\n",
    "df2['부위_대분류'].value_counts()"
   ]
  },
  {
   "cell_type": "code",
   "execution_count": 26,
   "metadata": {},
   "outputs": [
    {
     "data": {
      "text/plain": [
       "부위_중분류\n",
       "바닥        7371\n",
       "기타        6542\n",
       "상부(위)     3801\n",
       "하부(아래)    1333\n",
       "옆         1302\n",
       "지하        1255\n",
       "고소         937\n",
       "앞          693\n",
       "뒤          219\n",
       "계단          73\n",
       "Name: count, dtype: int64"
      ]
     },
     "execution_count": 26,
     "metadata": {},
     "output_type": "execute_result"
    }
   ],
   "source": [
    "df2['부위_중분류'].value_counts()"
   ]
  },
  {
   "cell_type": "code",
   "execution_count": 27,
   "metadata": {},
   "outputs": [
    {
     "data": {
      "text/plain": [
       "사고원인_주원인\n",
       "작업자 부주의              13030\n",
       "기타                    4122\n",
       "작업자의 불안전한 행동          1887\n",
       "작업자 통제 미흡              749\n",
       "위험정보 미제공               650\n",
       "작업순서 미준수               595\n",
       "운전자 자격관리 미흡            417\n",
       "시공품질 미확보               411\n",
       "시공관리 미흡                371\n",
       "시방기준 등 미준수             299\n",
       "개인 안전보호구 착용 불량         292\n",
       "부적정 기계장비 사용 통제 미흡      196\n",
       "사전 설계도서검토 미흡           181\n",
       "안전관리계획 수립 미흡           172\n",
       "구조안전 미확보               154\n",
       "Name: count, dtype: int64"
      ]
     },
     "execution_count": 27,
     "metadata": {},
     "output_type": "execute_result"
    }
   ],
   "source": [
    "df2['사고원인_주원인'] = mapping(df2['사고원인_주원인'], tol = 150)\n",
    "df2['사고원인_주원인'].value_counts()"
   ]
  },
  {
   "cell_type": "code",
   "execution_count": 28,
   "metadata": {},
   "outputs": [
    {
     "data": {
      "text/plain": [
       "전체공사비\n",
       "17    7944\n",
       "16    2650\n",
       "11    1994\n",
       "10    1873\n",
       "15    1788\n",
       "12    1526\n",
       "14    1407\n",
       "9     1010\n",
       "13     977\n",
       "8      735\n",
       "7      460\n",
       "5      265\n",
       "6      251\n",
       "4      192\n",
       "0      115\n",
       "2      115\n",
       "3      114\n",
       "1      110\n",
       "Name: count, dtype: int64"
      ]
     },
     "execution_count": 28,
     "metadata": {},
     "output_type": "execute_result"
    }
   ],
   "source": [
    "cost_dict = {\"분류불능\" : 0, '1,000만원 미만' : 1, '1,000만 ~ 2,000만원 미만' : 2, '2,000만 ~ 4,000만원 미만' : 3, '4,000만 ~ 1억원 미만' : 4,\n",
    "             '1억 ~ 2억원 미만' : 5, '2억 ~ 3억원 미만' : 6, '3억 ~ 5억원 미만' : 7, '5억 ~ 10억원 미만' : 8, '10억 ~ 20억원 미만' : 9,\n",
    "             '20억 ~ 50억원 미만' : 10, '50억 ~ 100억원 미만' : 11, '100억 ~ 150억원 미만' : 12, '150억 ~ 200억원 미만' : 13, '200억 ~ 300억원 미만' : 14,\n",
    "             '300억 ~ 500억원 미만' : 15, '500억 ~ 1,000억원 미만' : 16, '1,000억원 이상' : 17}\n",
    "df2['전체공사비'] = df2['전체공사비'].map(cost_dict)\n",
    "df2['전체공사비'].value_counts()"
   ]
  },
  {
   "cell_type": "code",
   "execution_count": 29,
   "metadata": {},
   "outputs": [
    {
     "data": {
      "text/plain": [
       "해당공종_공사비\n",
       "10.0    3025\n",
       "9.0     2375\n",
       "11.0    2110\n",
       "8.0     1904\n",
       "0.0     1900\n",
       "12.0    1576\n",
       "1.0     1519\n",
       "5.0     1212\n",
       "4.0     1091\n",
       "14.0    1086\n",
       "7.0     1024\n",
       "13.0     942\n",
       "15.0     873\n",
       "6.0      741\n",
       "17.0     585\n",
       "16.0     531\n",
       "3.0      525\n",
       "2.0      506\n",
       "Name: count, dtype: int64"
      ]
     },
     "execution_count": 29,
     "metadata": {},
     "output_type": "execute_result"
    }
   ],
   "source": [
    "tmp_li = list(cost_dict.keys()).copy()\n",
    "\n",
    "for i in tmp_li:\n",
    "    i2 = i.replace(\" \", \"\")\n",
    "    cost_dict[i2] = cost_dict[i]\n",
    "df2['해당공종_공사비'] = df2['해당공종_공사비'].map(cost_dict)\n",
    "df2['해당공종_공사비'].value_counts()"
   ]
  },
  {
   "cell_type": "code",
   "execution_count": 30,
   "metadata": {},
   "outputs": [
    {
     "data": {
      "text/plain": [
       "작업자수\n",
       "0    7921\n",
       "3    4808\n",
       "1    4279\n",
       "2    3123\n",
       "5    1966\n",
       "4    1429\n",
       "Name: count, dtype: int64"
      ]
     },
     "execution_count": 30,
     "metadata": {},
     "output_type": "execute_result"
    }
   ],
   "source": [
    "tmp_dict = {'19인 이하' : 0, '20~49인' : 1, '50~99인' : 2, '100~299인' : 3, '300~499인' : 4, '500인 이상' : 5}\n",
    "df2['작업자수'] = df2['작업자수'].map(tmp_dict)\n",
    "df2['작업자수'].value_counts()"
   ]
  },
  {
   "cell_type": "code",
   "execution_count": 31,
   "metadata": {},
   "outputs": [],
   "source": [
    "df3 = df2.drop(drop_cols, axis = 1)"
   ]
  },
  {
   "cell_type": "code",
   "execution_count": 32,
   "metadata": {},
   "outputs": [
    {
     "name": "stderr",
     "output_type": "stream",
     "text": [
      "2024-05-03 22:50:23.329085: I external/local_tsl/tsl/cuda/cudart_stub.cc:32] Could not find cuda drivers on your machine, GPU will not be used.\n",
      "2024-05-03 22:50:23.331303: I external/local_tsl/tsl/cuda/cudart_stub.cc:32] Could not find cuda drivers on your machine, GPU will not be used.\n",
      "2024-05-03 22:50:23.357033: I tensorflow/core/platform/cpu_feature_guard.cc:210] This TensorFlow binary is optimized to use available CPU instructions in performance-critical operations.\n",
      "To enable the following instructions: AVX2 FMA, in other operations, rebuild TensorFlow with the appropriate compiler flags.\n",
      "2024-05-03 22:50:23.979240: W tensorflow/compiler/tf2tensorrt/utils/py_utils.cc:38] TF-TRT Warning: Could not find TensorRT\n"
     ]
    }
   ],
   "source": [
    "import sys\n",
    "sys.path.append(\"/home/yjg1005/nas/Python/Mega_IT\")\n",
    "\n",
    "from yjk_module.preprocessing import *\n",
    "from yjk_module.ml_module import *\n",
    "from yjk_module.dl_module import *"
   ]
  },
  {
   "cell_type": "code",
   "execution_count": 33,
   "metadata": {},
   "outputs": [
    {
     "name": "stdout",
     "output_type": "stream",
     "text": [
      "아래와 같이 처리합니다.\n",
      "+-------------+----------------+\n",
      "| 범주        | 처리방법       |\n",
      "|-------------+----------------|\n",
      "| 이상치 처리 | 처리하지 않음  |\n",
      "| 결측치 처리 | 중앙값 대체    |\n",
      "| 스케일러    | StandardScaler |\n",
      "| 인코딩      | 원핫인코딩     |\n",
      "+-------------+----------------+\n"
     ]
    }
   ],
   "source": [
    "pp = YjkPreprocessor()\n",
    "pp.set_strategy(outline = None)"
   ]
  },
  {
   "cell_type": "code",
   "execution_count": 34,
   "metadata": {},
   "outputs": [
    {
     "name": "stdout",
     "output_type": "stream",
     "text": [
      "데이터프레임 크기 : (23526, 50)\n",
      "\n",
      "[열별 결측치 개수]\n",
      "+-----------------+-------------+\n",
      "| 열명            |   결측치 수 |\n",
      "|-----------------+-------------|\n",
      "| 공공/민간 구분  |          15 |\n",
      "| 인적사고        |          32 |\n",
      "| 해당공종_공사비 |           1 |\n",
      "| 공정률          |           1 |\n",
      "| 안전관리계획    |           1 |\n",
      "| 설계안전성검토  |           1 |\n",
      "| 기온.1          |          13 |\n",
      "| 풍속            |          26 |\n",
      "| 풍향            |          27 |\n",
      "| 습도.1          |          15 |\n",
      "| 증기압          |          15 |\n",
      "| 이슬점온도      |          15 |\n",
      "| 현지기압        |          15 |\n",
      "| 해면기압        |          15 |\n",
      "| 일조            |         765 |\n",
      "| 전운량          |         263 |\n",
      "| 중하층운량      |         664 |\n",
      "| 시정            |          92 |\n",
      "| 지면온도        |          43 |\n",
      "+-----------------+-------------+\n",
      "\n",
      "연속형 데이터 컬럼 : ['사상자수', '전체공사비', '해당공종_공사비', '작업자수', '기온.1', '강수량', '풍속', '풍향', '습도.1', '증기압', '이슬점온도', '현지기압', '해면기압', '일조', '전운량', '중하층운량', '시정', '지면온도', '총_공사기간', '공종공사기간'], 총 20개\n",
      "명목형 데이터 컬럼 : ['요일', '공휴일여부', '오전오후', '시간대', '사고인지 시간', '공공/민간 구분', '날씨', '보호(방호)조치여부 - 안전방호', '보호(방호)조치여부 - 개인방호', '공종_대분류', '공종_중분류', '사고객체_대분류', '사고객체_중분류', '작업프로세스', '장소_대분류', '장소_중분류', '부위_대분류', '부위_중분류', '사고원인_주원인', '사고신고사유_부상', '사고신고사유_사망', '사고신고사유_물적', '시', '공정률', '안전관리계획', '설계안전성검토', '분기', '월', '주야간'], 총 29개\n",
      "종속변수 컬럼명 : 인적사고 / 종속변수 라벨링 여부 : True\n"
     ]
    }
   ],
   "source": [
    "df_p = pp.fit_transform(df3, yname = '인적사고', ylabeling = True)"
   ]
  },
  {
   "cell_type": "code",
   "execution_count": 35,
   "metadata": {},
   "outputs": [],
   "source": [
    "from sklearn.model_selection import train_test_split\n",
    "from sklearn.ensemble import RandomForestClassifier"
   ]
  },
  {
   "cell_type": "code",
   "execution_count": 36,
   "metadata": {},
   "outputs": [],
   "source": [
    "X = df_p.copy()\n",
    "Y = X.pop('인적사고')"
   ]
  },
  {
   "cell_type": "code",
   "execution_count": 37,
   "metadata": {},
   "outputs": [],
   "source": [
    "x_train, x_test, y_train, y_test = train_test_split(X, Y, test_size = 0.2, random_state = 0, stratify = Y)"
   ]
  },
  {
   "cell_type": "code",
   "execution_count": 38,
   "metadata": {},
   "outputs": [],
   "source": [
    "from tensorflow import keras\n",
    "from keras.layers import Dense, Dropout, BatchNormalization\n",
    "from keras.optimizers import Adam, Nadam, RMSprop, SGD\n",
    "from keras.models import Sequential\n",
    "from keras.callbacks import EarlyStopping, ReduceLROnPlateau"
   ]
  },
  {
   "cell_type": "code",
   "execution_count": 39,
   "metadata": {},
   "outputs": [
    {
     "data": {
      "text/plain": [
       "15"
      ]
     },
     "execution_count": 39,
     "metadata": {},
     "output_type": "execute_result"
    }
   ],
   "source": [
    "num_labels = Y.nunique()\n",
    "num_labels"
   ]
  },
  {
   "cell_type": "code",
   "execution_count": 40,
   "metadata": {},
   "outputs": [
    {
     "name": "stderr",
     "output_type": "stream",
     "text": [
      "/home/yjg1005/py312/lib/python3.12/site-packages/keras/src/layers/core/dense.py:87: UserWarning: Do not pass an `input_shape`/`input_dim` argument to a layer. When using Sequential models, prefer using an `Input(shape)` object as the first layer in the model instead.\n",
      "  super().__init__(activity_regularizer=activity_regularizer, **kwargs)\n"
     ]
    }
   ],
   "source": [
    "model = Sequential([\n",
    "    Dense(512, activation = 'leaky_relu', input_shape = (x_train.shape[1],)),\n",
    "    Dropout(0.4),\n",
    "    Dense(256, activation = 'leaky_relu'),\n",
    "    Dropout(0.4),\n",
    "    Dense(64, activation = 'leaky_relu'),\n",
    "    Dropout(0.4),\n",
    "    Dense(num_labels, activation = 'softmax')\n",
    "])\n",
    "\n",
    "model.compile(optimizer = Adam(learning_rate = 0.0001, epsilon = 1e-08), loss = 'sparse_categorical_crossentropy', metrics = ['acc'])"
   ]
  },
  {
   "cell_type": "code",
   "execution_count": 41,
   "metadata": {},
   "outputs": [
    {
     "name": "stdout",
     "output_type": "stream",
     "text": [
      "Epoch 1/10000\n",
      "\u001b[1m148/148\u001b[0m \u001b[32m━━━━━━━━━━━━━━━━━━━━\u001b[0m\u001b[37m\u001b[0m \u001b[1m1s\u001b[0m 3ms/step - acc: 0.2009 - loss: 2.4566 - val_acc: 0.2960 - val_loss: 2.0426 - learning_rate: 1.0000e-04\n",
      "Epoch 2/10000\n",
      "\u001b[1m148/148\u001b[0m \u001b[32m━━━━━━━━━━━━━━━━━━━━\u001b[0m\u001b[37m\u001b[0m \u001b[1m0s\u001b[0m 3ms/step - acc: 0.2631 - loss: 2.1319 - val_acc: 0.3158 - val_loss: 1.9387 - learning_rate: 1.0000e-04\n",
      "Epoch 3/10000\n",
      "\u001b[1m148/148\u001b[0m \u001b[32m━━━━━━━━━━━━━━━━━━━━\u001b[0m\u001b[37m\u001b[0m \u001b[1m0s\u001b[0m 3ms/step - acc: 0.2847 - loss: 2.0397 - val_acc: 0.3965 - val_loss: 1.8443 - learning_rate: 1.0000e-04\n",
      "Epoch 4/10000\n",
      "\u001b[1m148/148\u001b[0m \u001b[32m━━━━━━━━━━━━━━━━━━━━\u001b[0m\u001b[37m\u001b[0m \u001b[1m0s\u001b[0m 3ms/step - acc: 0.3205 - loss: 1.9495 - val_acc: 0.4290 - val_loss: 1.7446 - learning_rate: 1.0000e-04\n",
      "Epoch 5/10000\n",
      "\u001b[1m148/148\u001b[0m \u001b[32m━━━━━━━━━━━━━━━━━━━━\u001b[0m\u001b[37m\u001b[0m \u001b[1m0s\u001b[0m 3ms/step - acc: 0.3681 - loss: 1.8512 - val_acc: 0.4394 - val_loss: 1.6785 - learning_rate: 1.0000e-04\n",
      "Epoch 6/10000\n",
      "\u001b[1m148/148\u001b[0m \u001b[32m━━━━━━━━━━━━━━━━━━━━\u001b[0m\u001b[37m\u001b[0m \u001b[1m0s\u001b[0m 3ms/step - acc: 0.3865 - loss: 1.7897 - val_acc: 0.4492 - val_loss: 1.6337 - learning_rate: 1.0000e-04\n",
      "Epoch 7/10000\n",
      "\u001b[1m148/148\u001b[0m \u001b[32m━━━━━━━━━━━━━━━━━━━━\u001b[0m\u001b[37m\u001b[0m \u001b[1m0s\u001b[0m 3ms/step - acc: 0.4092 - loss: 1.7511 - val_acc: 0.4613 - val_loss: 1.5973 - learning_rate: 1.0000e-04\n",
      "Epoch 8/10000\n",
      "\u001b[1m148/148\u001b[0m \u001b[32m━━━━━━━━━━━━━━━━━━━━\u001b[0m\u001b[37m\u001b[0m \u001b[1m0s\u001b[0m 3ms/step - acc: 0.4197 - loss: 1.7082 - val_acc: 0.4654 - val_loss: 1.5767 - learning_rate: 1.0000e-04\n",
      "Epoch 9/10000\n",
      "\u001b[1m148/148\u001b[0m \u001b[32m━━━━━━━━━━━━━━━━━━━━\u001b[0m\u001b[37m\u001b[0m \u001b[1m0s\u001b[0m 3ms/step - acc: 0.4385 - loss: 1.6725 - val_acc: 0.4692 - val_loss: 1.5575 - learning_rate: 1.0000e-04\n",
      "Epoch 10/10000\n",
      "\u001b[1m148/148\u001b[0m \u001b[32m━━━━━━━━━━━━━━━━━━━━\u001b[0m\u001b[37m\u001b[0m \u001b[1m0s\u001b[0m 3ms/step - acc: 0.4392 - loss: 1.6549 - val_acc: 0.4758 - val_loss: 1.5453 - learning_rate: 1.0000e-04\n",
      "Epoch 11/10000\n",
      "\u001b[1m148/148\u001b[0m \u001b[32m━━━━━━━━━━━━━━━━━━━━\u001b[0m\u001b[37m\u001b[0m \u001b[1m0s\u001b[0m 3ms/step - acc: 0.4430 - loss: 1.6381 - val_acc: 0.4760 - val_loss: 1.5313 - learning_rate: 1.0000e-04\n",
      "Epoch 12/10000\n",
      "\u001b[1m148/148\u001b[0m \u001b[32m━━━━━━━━━━━━━━━━━━━━\u001b[0m\u001b[37m\u001b[0m \u001b[1m0s\u001b[0m 3ms/step - acc: 0.4444 - loss: 1.6240 - val_acc: 0.4777 - val_loss: 1.5228 - learning_rate: 1.0000e-04\n",
      "Epoch 13/10000\n",
      "\u001b[1m148/148\u001b[0m \u001b[32m━━━━━━━━━━━━━━━━━━━━\u001b[0m\u001b[37m\u001b[0m \u001b[1m0s\u001b[0m 3ms/step - acc: 0.4543 - loss: 1.6128 - val_acc: 0.4783 - val_loss: 1.5114 - learning_rate: 1.0000e-04\n",
      "Epoch 14/10000\n",
      "\u001b[1m148/148\u001b[0m \u001b[32m━━━━━━━━━━━━━━━━━━━━\u001b[0m\u001b[37m\u001b[0m \u001b[1m0s\u001b[0m 3ms/step - acc: 0.4590 - loss: 1.5914 - val_acc: 0.4811 - val_loss: 1.5073 - learning_rate: 1.0000e-04\n",
      "Epoch 15/10000\n",
      "\u001b[1m148/148\u001b[0m \u001b[32m━━━━━━━━━━━━━━━━━━━━\u001b[0m\u001b[37m\u001b[0m \u001b[1m0s\u001b[0m 3ms/step - acc: 0.4656 - loss: 1.5767 - val_acc: 0.4800 - val_loss: 1.5046 - learning_rate: 1.0000e-04\n",
      "Epoch 16/10000\n",
      "\u001b[1m148/148\u001b[0m \u001b[32m━━━━━━━━━━━━━━━━━━━━\u001b[0m\u001b[37m\u001b[0m \u001b[1m0s\u001b[0m 3ms/step - acc: 0.4682 - loss: 1.5615 - val_acc: 0.4834 - val_loss: 1.4997 - learning_rate: 1.0000e-04\n",
      "Epoch 17/10000\n",
      "\u001b[1m148/148\u001b[0m \u001b[32m━━━━━━━━━━━━━━━━━━━━\u001b[0m\u001b[37m\u001b[0m \u001b[1m0s\u001b[0m 3ms/step - acc: 0.4671 - loss: 1.5597 - val_acc: 0.4853 - val_loss: 1.4958 - learning_rate: 1.0000e-04\n",
      "Epoch 18/10000\n",
      "\u001b[1m148/148\u001b[0m \u001b[32m━━━━━━━━━━━━━━━━━━━━\u001b[0m\u001b[37m\u001b[0m \u001b[1m0s\u001b[0m 3ms/step - acc: 0.4716 - loss: 1.5343 - val_acc: 0.4839 - val_loss: 1.4931 - learning_rate: 1.0000e-04\n",
      "Epoch 19/10000\n",
      "\u001b[1m148/148\u001b[0m \u001b[32m━━━━━━━━━━━━━━━━━━━━\u001b[0m\u001b[37m\u001b[0m \u001b[1m0s\u001b[0m 3ms/step - acc: 0.4652 - loss: 1.5489 - val_acc: 0.4856 - val_loss: 1.4883 - learning_rate: 1.0000e-04\n",
      "Epoch 20/10000\n",
      "\u001b[1m148/148\u001b[0m \u001b[32m━━━━━━━━━━━━━━━━━━━━\u001b[0m\u001b[37m\u001b[0m \u001b[1m0s\u001b[0m 3ms/step - acc: 0.4746 - loss: 1.5433 - val_acc: 0.4875 - val_loss: 1.4844 - learning_rate: 1.0000e-04\n",
      "Epoch 21/10000\n",
      "\u001b[1m148/148\u001b[0m \u001b[32m━━━━━━━━━━━━━━━━━━━━\u001b[0m\u001b[37m\u001b[0m \u001b[1m0s\u001b[0m 3ms/step - acc: 0.4782 - loss: 1.5266 - val_acc: 0.4883 - val_loss: 1.4841 - learning_rate: 1.0000e-04\n",
      "Epoch 22/10000\n",
      "\u001b[1m148/148\u001b[0m \u001b[32m━━━━━━━━━━━━━━━━━━━━\u001b[0m\u001b[37m\u001b[0m \u001b[1m0s\u001b[0m 3ms/step - acc: 0.4847 - loss: 1.5154 - val_acc: 0.4892 - val_loss: 1.4784 - learning_rate: 1.0000e-04\n",
      "Epoch 23/10000\n",
      "\u001b[1m148/148\u001b[0m \u001b[32m━━━━━━━━━━━━━━━━━━━━\u001b[0m\u001b[37m\u001b[0m \u001b[1m0s\u001b[0m 3ms/step - acc: 0.4896 - loss: 1.5055 - val_acc: 0.4898 - val_loss: 1.4785 - learning_rate: 1.0000e-04\n",
      "Epoch 24/10000\n",
      "\u001b[1m148/148\u001b[0m \u001b[32m━━━━━━━━━━━━━━━━━━━━\u001b[0m\u001b[37m\u001b[0m \u001b[1m0s\u001b[0m 3ms/step - acc: 0.4864 - loss: 1.4860 - val_acc: 0.4877 - val_loss: 1.4754 - learning_rate: 1.0000e-04\n",
      "Epoch 25/10000\n",
      "\u001b[1m148/148\u001b[0m \u001b[32m━━━━━━━━━━━━━━━━━━━━\u001b[0m\u001b[37m\u001b[0m \u001b[1m0s\u001b[0m 2ms/step - acc: 0.4924 - loss: 1.4740 - val_acc: 0.4890 - val_loss: 1.4730 - learning_rate: 1.0000e-04\n",
      "Epoch 26/10000\n",
      "\u001b[1m148/148\u001b[0m \u001b[32m━━━━━━━━━━━━━━━━━━━━\u001b[0m\u001b[37m\u001b[0m \u001b[1m0s\u001b[0m 3ms/step - acc: 0.4959 - loss: 1.4716 - val_acc: 0.4860 - val_loss: 1.4744 - learning_rate: 1.0000e-04\n",
      "Epoch 27/10000\n",
      "\u001b[1m148/148\u001b[0m \u001b[32m━━━━━━━━━━━━━━━━━━━━\u001b[0m\u001b[37m\u001b[0m \u001b[1m0s\u001b[0m 3ms/step - acc: 0.4931 - loss: 1.4697 - val_acc: 0.4898 - val_loss: 1.4715 - learning_rate: 1.0000e-04\n",
      "Epoch 28/10000\n",
      "\u001b[1m148/148\u001b[0m \u001b[32m━━━━━━━━━━━━━━━━━━━━\u001b[0m\u001b[37m\u001b[0m \u001b[1m0s\u001b[0m 2ms/step - acc: 0.4927 - loss: 1.4688 - val_acc: 0.4896 - val_loss: 1.4700 - learning_rate: 1.0000e-04\n",
      "Epoch 29/10000\n",
      "\u001b[1m148/148\u001b[0m \u001b[32m━━━━━━━━━━━━━━━━━━━━\u001b[0m\u001b[37m\u001b[0m \u001b[1m0s\u001b[0m 3ms/step - acc: 0.5021 - loss: 1.4569 - val_acc: 0.4892 - val_loss: 1.4663 - learning_rate: 1.0000e-04\n",
      "Epoch 30/10000\n",
      "\u001b[1m148/148\u001b[0m \u001b[32m━━━━━━━━━━━━━━━━━━━━\u001b[0m\u001b[37m\u001b[0m \u001b[1m0s\u001b[0m 2ms/step - acc: 0.4995 - loss: 1.4571 - val_acc: 0.4890 - val_loss: 1.4642 - learning_rate: 1.0000e-04\n",
      "Epoch 31/10000\n",
      "\u001b[1m148/148\u001b[0m \u001b[32m━━━━━━━━━━━━━━━━━━━━\u001b[0m\u001b[37m\u001b[0m \u001b[1m0s\u001b[0m 3ms/step - acc: 0.5022 - loss: 1.4637 - val_acc: 0.4894 - val_loss: 1.4649 - learning_rate: 1.0000e-04\n",
      "Epoch 32/10000\n",
      "\u001b[1m148/148\u001b[0m \u001b[32m━━━━━━━━━━━━━━━━━━━━\u001b[0m\u001b[37m\u001b[0m \u001b[1m0s\u001b[0m 3ms/step - acc: 0.5034 - loss: 1.4465 - val_acc: 0.4875 - val_loss: 1.4627 - learning_rate: 1.0000e-04\n",
      "Epoch 33/10000\n",
      "\u001b[1m148/148\u001b[0m \u001b[32m━━━━━━━━━━━━━━━━━━━━\u001b[0m\u001b[37m\u001b[0m \u001b[1m0s\u001b[0m 3ms/step - acc: 0.4916 - loss: 1.4622 - val_acc: 0.4904 - val_loss: 1.4625 - learning_rate: 1.0000e-04\n",
      "Epoch 34/10000\n",
      "\u001b[1m148/148\u001b[0m \u001b[32m━━━━━━━━━━━━━━━━━━━━\u001b[0m\u001b[37m\u001b[0m \u001b[1m0s\u001b[0m 3ms/step - acc: 0.5043 - loss: 1.4508 - val_acc: 0.4896 - val_loss: 1.4625 - learning_rate: 1.0000e-04\n",
      "Epoch 35/10000\n",
      "\u001b[1m148/148\u001b[0m \u001b[32m━━━━━━━━━━━━━━━━━━━━\u001b[0m\u001b[37m\u001b[0m \u001b[1m0s\u001b[0m 3ms/step - acc: 0.4942 - loss: 1.4533 - val_acc: 0.4892 - val_loss: 1.4602 - learning_rate: 1.0000e-04\n",
      "Epoch 36/10000\n",
      "\u001b[1m148/148\u001b[0m \u001b[32m━━━━━━━━━━━━━━━━━━━━\u001b[0m\u001b[37m\u001b[0m \u001b[1m0s\u001b[0m 3ms/step - acc: 0.5100 - loss: 1.4163 - val_acc: 0.4907 - val_loss: 1.4602 - learning_rate: 1.0000e-04\n",
      "Epoch 37/10000\n",
      "\u001b[1m148/148\u001b[0m \u001b[32m━━━━━━━━━━━━━━━━━━━━\u001b[0m\u001b[37m\u001b[0m \u001b[1m0s\u001b[0m 3ms/step - acc: 0.5173 - loss: 1.4123 - val_acc: 0.4917 - val_loss: 1.4580 - learning_rate: 1.0000e-04\n",
      "Epoch 38/10000\n",
      "\u001b[1m148/148\u001b[0m \u001b[32m━━━━━━━━━━━━━━━━━━━━\u001b[0m\u001b[37m\u001b[0m \u001b[1m0s\u001b[0m 3ms/step - acc: 0.5145 - loss: 1.4149 - val_acc: 0.4894 - val_loss: 1.4572 - learning_rate: 1.0000e-04\n",
      "Epoch 39/10000\n",
      "\u001b[1m148/148\u001b[0m \u001b[32m━━━━━━━━━━━━━━━━━━━━\u001b[0m\u001b[37m\u001b[0m \u001b[1m0s\u001b[0m 3ms/step - acc: 0.5090 - loss: 1.4214 - val_acc: 0.4909 - val_loss: 1.4575 - learning_rate: 1.0000e-04\n",
      "Epoch 40/10000\n",
      "\u001b[1m148/148\u001b[0m \u001b[32m━━━━━━━━━━━━━━━━━━━━\u001b[0m\u001b[37m\u001b[0m \u001b[1m0s\u001b[0m 3ms/step - acc: 0.5197 - loss: 1.3959 - val_acc: 0.4915 - val_loss: 1.4577 - learning_rate: 1.0000e-04\n",
      "Epoch 41/10000\n",
      "\u001b[1m148/148\u001b[0m \u001b[32m━━━━━━━━━━━━━━━━━━━━\u001b[0m\u001b[37m\u001b[0m \u001b[1m0s\u001b[0m 3ms/step - acc: 0.5125 - loss: 1.4056 - val_acc: 0.4890 - val_loss: 1.4575 - learning_rate: 1.0000e-04\n",
      "Epoch 42/10000\n",
      "\u001b[1m148/148\u001b[0m \u001b[32m━━━━━━━━━━━━━━━━━━━━\u001b[0m\u001b[37m\u001b[0m \u001b[1m0s\u001b[0m 3ms/step - acc: 0.5098 - loss: 1.4025 - val_acc: 0.4924 - val_loss: 1.4557 - learning_rate: 1.0000e-04\n",
      "Epoch 43/10000\n",
      "\u001b[1m148/148\u001b[0m \u001b[32m━━━━━━━━━━━━━━━━━━━━\u001b[0m\u001b[37m\u001b[0m \u001b[1m0s\u001b[0m 3ms/step - acc: 0.5151 - loss: 1.4061 - val_acc: 0.4894 - val_loss: 1.4554 - learning_rate: 1.0000e-04\n",
      "Epoch 44/10000\n",
      "\u001b[1m148/148\u001b[0m \u001b[32m━━━━━━━━━━━━━━━━━━━━\u001b[0m\u001b[37m\u001b[0m \u001b[1m0s\u001b[0m 3ms/step - acc: 0.5059 - loss: 1.4192 - val_acc: 0.4894 - val_loss: 1.4555 - learning_rate: 1.0000e-04\n",
      "Epoch 45/10000\n",
      "\u001b[1m148/148\u001b[0m \u001b[32m━━━━━━━━━━━━━━━━━━━━\u001b[0m\u001b[37m\u001b[0m \u001b[1m0s\u001b[0m 2ms/step - acc: 0.5125 - loss: 1.3932 - val_acc: 0.4883 - val_loss: 1.4531 - learning_rate: 1.0000e-04\n",
      "Epoch 46/10000\n",
      "\u001b[1m148/148\u001b[0m \u001b[32m━━━━━━━━━━━━━━━━━━━━\u001b[0m\u001b[37m\u001b[0m \u001b[1m0s\u001b[0m 3ms/step - acc: 0.5238 - loss: 1.3856 - val_acc: 0.4898 - val_loss: 1.4549 - learning_rate: 1.0000e-04\n",
      "Epoch 47/10000\n",
      "\u001b[1m148/148\u001b[0m \u001b[32m━━━━━━━━━━━━━━━━━━━━\u001b[0m\u001b[37m\u001b[0m \u001b[1m0s\u001b[0m 3ms/step - acc: 0.5232 - loss: 1.3788 - val_acc: 0.4915 - val_loss: 1.4539 - learning_rate: 1.0000e-04\n",
      "Epoch 48/10000\n",
      "\u001b[1m148/148\u001b[0m \u001b[32m━━━━━━━━━━━━━━━━━━━━\u001b[0m\u001b[37m\u001b[0m \u001b[1m0s\u001b[0m 3ms/step - acc: 0.5235 - loss: 1.3763 - val_acc: 0.4892 - val_loss: 1.4538 - learning_rate: 1.0000e-04\n",
      "Epoch 49/10000\n",
      "\u001b[1m148/148\u001b[0m \u001b[32m━━━━━━━━━━━━━━━━━━━━\u001b[0m\u001b[37m\u001b[0m \u001b[1m0s\u001b[0m 3ms/step - acc: 0.5303 - loss: 1.3639 - val_acc: 0.4915 - val_loss: 1.4545 - learning_rate: 1.0000e-04\n",
      "Epoch 50/10000\n",
      "\u001b[1m148/148\u001b[0m \u001b[32m━━━━━━━━━━━━━━━━━━━━\u001b[0m\u001b[37m\u001b[0m \u001b[1m0s\u001b[0m 3ms/step - acc: 0.5205 - loss: 1.3773 - val_acc: 0.4890 - val_loss: 1.4538 - learning_rate: 1.0000e-05\n",
      "Epoch 51/10000\n",
      "\u001b[1m148/148\u001b[0m \u001b[32m━━━━━━━━━━━━━━━━━━━━\u001b[0m\u001b[37m\u001b[0m \u001b[1m0s\u001b[0m 3ms/step - acc: 0.5256 - loss: 1.3679 - val_acc: 0.4894 - val_loss: 1.4536 - learning_rate: 1.0000e-05\n",
      "Epoch 52/10000\n",
      "\u001b[1m148/148\u001b[0m \u001b[32m━━━━━━━━━━━━━━━━━━━━\u001b[0m\u001b[37m\u001b[0m \u001b[1m0s\u001b[0m 3ms/step - acc: 0.5274 - loss: 1.3620 - val_acc: 0.4900 - val_loss: 1.4536 - learning_rate: 1.0000e-05\n",
      "Epoch 53/10000\n",
      "\u001b[1m148/148\u001b[0m \u001b[32m━━━━━━━━━━━━━━━━━━━━\u001b[0m\u001b[37m\u001b[0m \u001b[1m0s\u001b[0m 3ms/step - acc: 0.5293 - loss: 1.3540 - val_acc: 0.4896 - val_loss: 1.4536 - learning_rate: 1.0000e-05\n",
      "Epoch 54/10000\n",
      "\u001b[1m148/148\u001b[0m \u001b[32m━━━━━━━━━━━━━━━━━━━━\u001b[0m\u001b[37m\u001b[0m \u001b[1m0s\u001b[0m 3ms/step - acc: 0.5234 - loss: 1.3765 - val_acc: 0.4900 - val_loss: 1.4536 - learning_rate: 1.0000e-06\n",
      "Epoch 55/10000\n",
      "\u001b[1m148/148\u001b[0m \u001b[32m━━━━━━━━━━━━━━━━━━━━\u001b[0m\u001b[37m\u001b[0m \u001b[1m0s\u001b[0m 3ms/step - acc: 0.5226 - loss: 1.3603 - val_acc: 0.4898 - val_loss: 1.4536 - learning_rate: 1.0000e-06\n"
     ]
    }
   ],
   "source": [
    "history = model.fit(x_train, y_train, validation_data = (x_test, y_test), epochs = 10000, callbacks = [\n",
    "    EarlyStopping(patience = 10, restore_best_weights = True),\n",
    "    ReduceLROnPlateau(patience = 4, min_lr = 1e-06)\n",
    "], batch_size = 128)"
   ]
  },
  {
   "cell_type": "code",
   "execution_count": 43,
   "metadata": {},
   "outputs": [
    {
     "data": {
      "image/png": "[encoded data removed]",
      "text/plain": [
       "<Figure size 900x1200 with 2 Axes>"
      ]
     },
     "metadata": {},
     "output_type": "display_data"
    },
    {
     "name": "stdout",
     "output_type": "stream",
     "text": [
      "+---------------+----------+\n",
      "|               |    Value |\n",
      "|---------------+----------|\n",
      "| acc           | 0.527258 |\n",
      "| loss          |   1.3663 |\n",
      "| val_acc       |   0.4898 |\n",
      "| val_loss      |  1.45361 |\n",
      "| learning_rate |    1e-06 |\n",
      "+---------------+----------+\n"
     ]
    }
   ],
   "source": [
    "yjk_dl_history_plot(history, 'acc')"
   ]
  },
  {
   "cell_type": "code",
   "execution_count": null,
   "metadata": {},
   "outputs": [],
   "source": []
  },
  {
   "cell_type": "code",
   "execution_count": null,
   "metadata": {},
   "outputs": [],
   "source": []
  },
  {
   "cell_type": "code",
   "execution_count": null,
   "metadata": {},
   "outputs": [],
   "source": []
  },
  {
   "cell_type": "code",
   "execution_count": null,
   "metadata": {},
   "outputs": [],
   "source": []
  }
 ],
 "metadata": {
  "kernelspec": {
   "display_name": "py312",
   "language": "python",
   "name": "py312"
  },
  "language_info": {
   "codemirror_mode": {
    "name": "ipython",
    "version": 3
   },
   "file_extension": ".py",
   "mimetype": "text/x-python",
   "name": "python",
   "nbconvert_exporter": "python",
   "pygments_lexer": "ipython3",
   "version": "3.12.3"
  }
 },
 "nbformat": 4,
 "nbformat_minor": 2
}
