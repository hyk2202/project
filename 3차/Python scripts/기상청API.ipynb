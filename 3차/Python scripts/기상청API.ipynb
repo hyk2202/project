{
 "cells": [
  {
   "cell_type": "code",
   "execution_count": 1,
   "metadata": {},
   "outputs": [],
   "source": [
    "import requests\n",
    "import pandas as pd"
   ]
  },
  {
   "cell_type": "code",
   "execution_count": 2,
   "metadata": {},
   "outputs": [],
   "source": [
    "df = pd.read_excel(\"./전처리_이진규.xlsx\", sheet_name = 'Sheet1')"
   ]
  },
  {
   "cell_type": "code",
   "execution_count": 3,
   "metadata": {},
   "outputs": [],
   "source": [
    "df2 = df[['발생일시', '관측소']].copy()"
   ]
  },
  {
   "cell_type": "code",
   "execution_count": 4,
   "metadata": {},
   "outputs": [
    {
     "data": {
      "text/plain": [
       "0        2024-04-12 오전 10:30\n",
       "1        2024-04-13 오전 08:47\n",
       "2        2024-04-12 오전 09:00\n",
       "3        2024-04-12 오전 10:30\n",
       "4        2024-04-13 오전 11:30\n",
       "                ...         \n",
       "23717    2019-07-01 오전 07:10\n",
       "23718    2019-07-01 오전 11:50\n",
       "23719    2019-01-18 오후 03:30\n",
       "23720    2019-07-01 오전 10:00\n",
       "23721    2019-07-01 오전 08:50\n",
       "Name: 발생일시, Length: 23722, dtype: object"
      ]
     },
     "execution_count": 4,
     "metadata": {},
     "output_type": "execute_result"
    }
   ],
   "source": [
    "df2['발생일시']"
   ]
  },
  {
   "cell_type": "code",
   "execution_count": 5,
   "metadata": {},
   "outputs": [],
   "source": [
    "tmp = df2['발생일시'].str.split('오')"
   ]
  },
  {
   "cell_type": "code",
   "execution_count": 6,
   "metadata": {},
   "outputs": [
    {
     "data": {
      "text/plain": [
       "'20240412'"
      ]
     },
     "execution_count": 6,
     "metadata": {},
     "output_type": "execute_result"
    }
   ],
   "source": [
    "tmp[0][0].replace(\" \", \"\").replace(\"-\", \"\")"
   ]
  },
  {
   "cell_type": "code",
   "execution_count": 7,
   "metadata": {},
   "outputs": [],
   "source": [
    "def time_trans(x):\n",
    "    x2 = x[1]\n",
    "    plus = 0\n",
    "    if x2[0] == '후':\n",
    "        plus = 12\n",
    "    x3 = int(x2[2:4]) + plus\n",
    "    if x3 == 24:\n",
    "        x3 = 12\n",
    "    return \"%02d\" % x3"
   ]
  },
  {
   "cell_type": "code",
   "execution_count": 8,
   "metadata": {},
   "outputs": [],
   "source": [
    "df2['Date'] = tmp.apply(lambda x : x[0].replace(\" \", \"\").replace(\"-\", \"\"))\n",
    "df2['Hr'] = tmp.apply(lambda x : time_trans(x))"
   ]
  },
  {
   "cell_type": "code",
   "execution_count": 9,
   "metadata": {},
   "outputs": [],
   "source": [
    "url = 'http://apis.data.go.kr/1360000/AsosHourlyInfoService/getWthrDataList'"
   ]
  },
  {
   "cell_type": "code",
   "execution_count": 10,
   "metadata": {},
   "outputs": [],
   "source": [
    "try:\n",
    "    df_result = pd.read_excel(\"./기상정보_수집.xlsx\")\n",
    "except:\n",
    "    df_result = pd.DataFrame()"
   ]
  },
  {
   "cell_type": "code",
   "execution_count": 11,
   "metadata": {},
   "outputs": [
    {
     "data": {
      "text/html": [
       "<div>\n",
       "<style scoped>\n",
       "    .dataframe tbody tr th:only-of-type {\n",
       "        vertical-align: middle;\n",
       "    }\n",
       "\n",
       "    .dataframe tbody tr th {\n",
       "        vertical-align: top;\n",
       "    }\n",
       "\n",
       "    .dataframe thead th {\n",
       "        text-align: right;\n",
       "    }\n",
       "</style>\n",
       "<table border=\"1\" class=\"dataframe\">\n",
       "  <thead>\n",
       "    <tr style=\"text-align: right;\">\n",
       "      <th></th>\n",
       "      <th>tm</th>\n",
       "      <th>rnum</th>\n",
       "      <th>stnId</th>\n",
       "      <th>stnNm</th>\n",
       "      <th>ta</th>\n",
       "      <th>taQcflg</th>\n",
       "      <th>rn</th>\n",
       "      <th>rnQcflg</th>\n",
       "      <th>ws</th>\n",
       "      <th>wsQcflg</th>\n",
       "      <th>...</th>\n",
       "      <th>dmstMtphNo</th>\n",
       "      <th>ts</th>\n",
       "      <th>tsQcflg</th>\n",
       "      <th>m005Te</th>\n",
       "      <th>m01Te</th>\n",
       "      <th>m02Te</th>\n",
       "      <th>m03Te</th>\n",
       "      <th>사고명</th>\n",
       "      <th>발생일시</th>\n",
       "      <th>IDX</th>\n",
       "    </tr>\n",
       "  </thead>\n",
       "  <tbody>\n",
       "    <tr>\n",
       "      <th>0</th>\n",
       "      <td>2019-01-18 15:00</td>\n",
       "      <td>1</td>\n",
       "      <td>232</td>\n",
       "      <td>천안</td>\n",
       "      <td>6.1</td>\n",
       "      <td>NaN</td>\n",
       "      <td>NaN</td>\n",
       "      <td>NaN</td>\n",
       "      <td>3.0</td>\n",
       "      <td>NaN</td>\n",
       "      <td>...</td>\n",
       "      <td>NaN</td>\n",
       "      <td>7.0</td>\n",
       "      <td>0.0</td>\n",
       "      <td>NaN</td>\n",
       "      <td>NaN</td>\n",
       "      <td>NaN</td>\n",
       "      <td>NaN</td>\n",
       "      <td>경기도 평택시 고덕면 삼성로 41 평택 EUV 신축공사</td>\n",
       "      <td>2019-01-18 오후 03:30</td>\n",
       "      <td>23719</td>\n",
       "    </tr>\n",
       "    <tr>\n",
       "      <th>1</th>\n",
       "      <td>2019-07-01 07:00</td>\n",
       "      <td>1</td>\n",
       "      <td>112</td>\n",
       "      <td>인천</td>\n",
       "      <td>20.2</td>\n",
       "      <td>NaN</td>\n",
       "      <td>NaN</td>\n",
       "      <td>NaN</td>\n",
       "      <td>0.4</td>\n",
       "      <td>NaN</td>\n",
       "      <td>...</td>\n",
       "      <td>19.0</td>\n",
       "      <td>20.8</td>\n",
       "      <td>NaN</td>\n",
       "      <td>21.9</td>\n",
       "      <td>22.1</td>\n",
       "      <td>22.5</td>\n",
       "      <td>22.6</td>\n",
       "      <td>경기도 부천시 소사본동 65-13 소사본동65-13 업무시설 신축공사_(주)순영종합건설</td>\n",
       "      <td>2019-07-01 오전 07:10</td>\n",
       "      <td>23717</td>\n",
       "    </tr>\n",
       "    <tr>\n",
       "      <th>2</th>\n",
       "      <td>2019-07-01 08:00</td>\n",
       "      <td>1</td>\n",
       "      <td>112</td>\n",
       "      <td>인천</td>\n",
       "      <td>20.9</td>\n",
       "      <td>NaN</td>\n",
       "      <td>NaN</td>\n",
       "      <td>NaN</td>\n",
       "      <td>0.9</td>\n",
       "      <td>NaN</td>\n",
       "      <td>...</td>\n",
       "      <td>19.0</td>\n",
       "      <td>23.0</td>\n",
       "      <td>NaN</td>\n",
       "      <td>21.9</td>\n",
       "      <td>22.1</td>\n",
       "      <td>22.4</td>\n",
       "      <td>22.5</td>\n",
       "      <td>경기도 부천시 심곡동 161-5 부천시 심곡동 161-5외 7필지 주상복합신축공사</td>\n",
       "      <td>2019-07-01 오전 08:50</td>\n",
       "      <td>23721</td>\n",
       "    </tr>\n",
       "    <tr>\n",
       "      <th>3</th>\n",
       "      <td>2019-07-01 10:00</td>\n",
       "      <td>1</td>\n",
       "      <td>112</td>\n",
       "      <td>인천</td>\n",
       "      <td>22.4</td>\n",
       "      <td>NaN</td>\n",
       "      <td>NaN</td>\n",
       "      <td>NaN</td>\n",
       "      <td>2.5</td>\n",
       "      <td>NaN</td>\n",
       "      <td>...</td>\n",
       "      <td>19.0</td>\n",
       "      <td>29.0</td>\n",
       "      <td>NaN</td>\n",
       "      <td>22.1</td>\n",
       "      <td>22.2</td>\n",
       "      <td>22.3</td>\n",
       "      <td>22.4</td>\n",
       "      <td>인천광역시 서구 가석로 257 (석남동) 서울도시철도7호선 석남연장 2공구 건설공사</td>\n",
       "      <td>2019-07-01 오전 10:00</td>\n",
       "      <td>23720</td>\n",
       "    </tr>\n",
       "    <tr>\n",
       "      <th>4</th>\n",
       "      <td>2019-07-01 10:00</td>\n",
       "      <td>1</td>\n",
       "      <td>232</td>\n",
       "      <td>천안</td>\n",
       "      <td>22.0</td>\n",
       "      <td>NaN</td>\n",
       "      <td>NaN</td>\n",
       "      <td>9.0</td>\n",
       "      <td>2.5</td>\n",
       "      <td>NaN</td>\n",
       "      <td>...</td>\n",
       "      <td>NaN</td>\n",
       "      <td>29.4</td>\n",
       "      <td>NaN</td>\n",
       "      <td>NaN</td>\n",
       "      <td>NaN</td>\n",
       "      <td>NaN</td>\n",
       "      <td>NaN</td>\n",
       "      <td>경기도 안성시 공도읍 공도로 116-24 안성공도 우방아이유쉘 공동주택 신축공사 중...</td>\n",
       "      <td>2019-07-01 오전 10:10</td>\n",
       "      <td>23716</td>\n",
       "    </tr>\n",
       "  </tbody>\n",
       "</table>\n",
       "<p>5 rows × 41 columns</p>\n",
       "</div>"
      ],
      "text/plain": [
       "                 tm  rnum  stnId stnNm    ta  taQcflg  rn  rnQcflg   ws  \\\n",
       "0  2019-01-18 15:00     1    232    천안   6.1      NaN NaN      NaN  3.0   \n",
       "1  2019-07-01 07:00     1    112    인천  20.2      NaN NaN      NaN  0.4   \n",
       "2  2019-07-01 08:00     1    112    인천  20.9      NaN NaN      NaN  0.9   \n",
       "3  2019-07-01 10:00     1    112    인천  22.4      NaN NaN      NaN  2.5   \n",
       "4  2019-07-01 10:00     1    232    천안  22.0      NaN NaN      9.0  2.5   \n",
       "\n",
       "   wsQcflg  ...  dmstMtphNo    ts  tsQcflg  m005Te  m01Te  m02Te  m03Te  \\\n",
       "0      NaN  ...         NaN   7.0      0.0     NaN    NaN    NaN    NaN   \n",
       "1      NaN  ...        19.0  20.8      NaN    21.9   22.1   22.5   22.6   \n",
       "2      NaN  ...        19.0  23.0      NaN    21.9   22.1   22.4   22.5   \n",
       "3      NaN  ...        19.0  29.0      NaN    22.1   22.2   22.3   22.4   \n",
       "4      NaN  ...         NaN  29.4      NaN     NaN    NaN    NaN    NaN   \n",
       "\n",
       "                                                 사고명                 발생일시  \\\n",
       "0                     경기도 평택시 고덕면 삼성로 41 평택 EUV 신축공사  2019-01-18 오후 03:30   \n",
       "1   경기도 부천시 소사본동 65-13 소사본동65-13 업무시설 신축공사_(주)순영종합건설  2019-07-01 오전 07:10   \n",
       "2      경기도 부천시 심곡동 161-5 부천시 심곡동 161-5외 7필지 주상복합신축공사  2019-07-01 오전 08:50   \n",
       "3     인천광역시 서구 가석로 257 (석남동) 서울도시철도7호선 석남연장 2공구 건설공사  2019-07-01 오전 10:00   \n",
       "4  경기도 안성시 공도읍 공도로 116-24 안성공도 우방아이유쉘 공동주택 신축공사 중...  2019-07-01 오전 10:10   \n",
       "\n",
       "     IDX  \n",
       "0  23719  \n",
       "1  23717  \n",
       "2  23721  \n",
       "3  23720  \n",
       "4  23716  \n",
       "\n",
       "[5 rows x 41 columns]"
      ]
     },
     "execution_count": 11,
     "metadata": {},
     "output_type": "execute_result"
    }
   ],
   "source": [
    "df_result.head()"
   ]
  },
  {
   "cell_type": "code",
   "execution_count": 12,
   "metadata": {},
   "outputs": [
    {
     "name": "stdout",
     "output_type": "stream",
     "text": [
      "0\n"
     ]
    }
   ],
   "source": [
    "is_error = False\n",
    "\n",
    "for i in df2.index:\n",
    "    try:\n",
    "        try:\n",
    "            if i in list(df_result['IDX'].astype('int')):\n",
    "                continue\n",
    "        except:\n",
    "            pass\n",
    "        if i % 100 == 0:\n",
    "            print(i)\n",
    "        HR = df2.loc[i, 'Hr']\n",
    "        Date = df2.loc[i, 'Date']\n",
    "        loc = df2.loc[i, '관측소']\n",
    "        params = {'serviceKey' : 'GOcFuU1jXSl0WxsxO2SWIC10mJFK2PfS/YxIy++PbRAqXkBL0xVJ8JK7jfy266eavs7bE5BDTNM1n6Tb2dtJQg==',\n",
    "    'pageNo' : '1', 'numOfRows' : '999', 'dataType' : 'JSON', 'dataCd' : 'ASOS', 'dateCd' : 'HR', 'startDt' : Date, 'startHh' : HR, 'endDt' : Date, 'endHh' : HR, 'stnIds' : loc }\n",
    "        response = requests.get(url, params=params)\n",
    "        tmp = eval(response.text)\n",
    "        tmp_df = pd.DataFrame(tmp['response']['body']['items']['item'], index = [i])\n",
    "        tmp_df.loc[i, '사고명'] = df.loc[i, '사고명']\n",
    "        tmp_df.loc[i, '발생일시'] = df.loc[i, '발생일시']\n",
    "        tmp_df.loc[i, 'IDX'] = i\n",
    "        df_result = pd.concat([df_result, tmp_df], axis = 0)\n",
    "        is_error = False\n",
    "    except:\n",
    "        print(f\"{i}번째 인덱스에서 오류 발생\")\n",
    "        if is_error:\n",
    "            print(f\"{i}번째 인덱스에서 오류 연속 발생으로 종료\")\n",
    "            break\n",
    "        is_error = True"
   ]
  },
  {
   "cell_type": "code",
   "execution_count": 13,
   "metadata": {},
   "outputs": [],
   "source": [
    "df_result.to_excel(\"./기상정보_수집.xlsx\", index = False)"
   ]
  }
 ],
 "metadata": {
  "kernelspec": {
   "display_name": "py312",
   "language": "python",
   "name": "py312"
  },
  "language_info": {
   "codemirror_mode": {
    "name": "ipython",
    "version": 3
   },
   "file_extension": ".py",
   "mimetype": "text/x-python",
   "name": "python",
   "nbconvert_exporter": "python",
   "pygments_lexer": "ipython3",
   "version": "3.12.3"
  }
 },
 "nbformat": 4,
 "nbformat_minor": 4
}
